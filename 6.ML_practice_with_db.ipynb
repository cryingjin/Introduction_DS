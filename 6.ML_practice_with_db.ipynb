{
 "cells": [
  {
   "cell_type": "markdown",
   "metadata": {},
   "source": [
    "# DB to Python\n",
    "db에 있는 iris 테이블을 data로 읽고 정제 후, 분류까지 진행한다.  \n",
    "과제는 이 과정을 db_score 데이터로 반복하는 것  \n",
    "- Updated 1009"
   ]
  },
  {
   "cell_type": "markdown",
   "metadata": {},
   "source": [
    "mysql에서 새로 만든 db 스키마 practice에 iris table 을 생성해서 데이터를 넣어본다."
   ]
  },
  {
   "cell_type": "code",
   "execution_count": 23,
   "metadata": {},
   "outputs": [],
   "source": [
    "# ready\n",
    "import pymysql\n",
    "import sqlalchemy\n",
    "import pandas as pd\n",
    "import numpy as np\n",
    "\n",
    "# sklearn\n",
    "from sklearn.model_selection import train_test_split,KFold\n",
    "from sklearn.tree import DecisionTreeClassifier\n",
    "from sklearn.metrics import accuracy_score,precision_score,recall_score,f1_score"
   ]
  },
  {
   "cell_type": "markdown",
   "metadata": {},
   "source": [
    "### database 연결 후 iris table 불러들이기"
   ]
  },
  {
   "cell_type": "code",
   "execution_count": 2,
   "metadata": {},
   "outputs": [
    {
     "name": "stdout",
     "output_type": "stream",
     "text": [
      "[{'index': 0, 'sepal_length': 5.1, 'sepal_width': 3.5, 'petal_length': 1.4, 'petal_width': 0.2, 'species': 'setosa'}, {'index': 1, 'sepal_length': 4.9, 'sepal_width': 3.0, 'petal_length': 1.4, 'petal_width': 0.2, 'species': 'setosa'}, {'index': 2, 'sepal_length': 4.7, 'sepal_width': 3.2, 'petal_length': 1.3, 'petal_width': 0.2, 'species': 'setosa'}, {'index': 3, 'sepal_length': 4.6, 'sepal_width': 3.1, 'petal_length': 1.5, 'petal_width': 0.2, 'species': 'setosa'}, {'index': 4, 'sepal_length': 5.0, 'sepal_width': 3.6, 'petal_length': 1.4, 'petal_width': 0.2, 'species': 'setosa'}, {'index': 5, 'sepal_length': 5.4, 'sepal_width': 3.9, 'petal_length': 1.7, 'petal_width': 0.4, 'species': 'setosa'}, {'index': 6, 'sepal_length': 4.6, 'sepal_width': 3.4, 'petal_length': 1.4, 'petal_width': 0.3, 'species': 'setosa'}, {'index': 7, 'sepal_length': 5.0, 'sepal_width': 3.4, 'petal_length': 1.5, 'petal_width': 0.2, 'species': 'setosa'}, {'index': 8, 'sepal_length': 4.4, 'sepal_width': 2.9, 'petal_length': 1.4, 'petal_width': 0.2, 'species': 'setosa'}, {'index': 9, 'sepal_length': 4.9, 'sepal_width': 3.1, 'petal_length': 1.5, 'petal_width': 0.1, 'species': 'setosa'}, {'index': 10, 'sepal_length': 5.4, 'sepal_width': 3.7, 'petal_length': 1.5, 'petal_width': 0.2, 'species': 'setosa'}, {'index': 11, 'sepal_length': 4.8, 'sepal_width': 3.4, 'petal_length': 1.6, 'petal_width': 0.2, 'species': 'setosa'}, {'index': 12, 'sepal_length': 4.8, 'sepal_width': 3.0, 'petal_length': 1.4, 'petal_width': 0.1, 'species': 'setosa'}, {'index': 13, 'sepal_length': 4.3, 'sepal_width': 3.0, 'petal_length': 1.1, 'petal_width': 0.1, 'species': 'setosa'}, {'index': 14, 'sepal_length': 5.8, 'sepal_width': 4.0, 'petal_length': 1.2, 'petal_width': 0.2, 'species': 'setosa'}, {'index': 15, 'sepal_length': 5.7, 'sepal_width': 4.4, 'petal_length': 1.5, 'petal_width': 0.4, 'species': 'setosa'}, {'index': 16, 'sepal_length': 5.4, 'sepal_width': 3.9, 'petal_length': 1.3, 'petal_width': 0.4, 'species': 'setosa'}, {'index': 17, 'sepal_length': 5.1, 'sepal_width': 3.5, 'petal_length': 1.4, 'petal_width': 0.3, 'species': 'setosa'}, {'index': 18, 'sepal_length': 5.7, 'sepal_width': 3.8, 'petal_length': 1.7, 'petal_width': 0.3, 'species': 'setosa'}, {'index': 19, 'sepal_length': 5.1, 'sepal_width': 3.8, 'petal_length': 1.5, 'petal_width': 0.3, 'species': 'setosa'}, {'index': 20, 'sepal_length': 5.4, 'sepal_width': 3.4, 'petal_length': 1.7, 'petal_width': 0.2, 'species': 'setosa'}, {'index': 21, 'sepal_length': 5.1, 'sepal_width': 3.7, 'petal_length': 1.5, 'petal_width': 0.4, 'species': 'setosa'}, {'index': 22, 'sepal_length': 4.6, 'sepal_width': 3.6, 'petal_length': 1.0, 'petal_width': 0.2, 'species': 'setosa'}, {'index': 23, 'sepal_length': 5.1, 'sepal_width': 3.3, 'petal_length': 1.7, 'petal_width': 0.5, 'species': 'setosa'}, {'index': 24, 'sepal_length': 4.8, 'sepal_width': 3.4, 'petal_length': 1.9, 'petal_width': 0.2, 'species': 'setosa'}, {'index': 25, 'sepal_length': 5.0, 'sepal_width': 3.0, 'petal_length': 1.6, 'petal_width': 0.2, 'species': 'setosa'}, {'index': 26, 'sepal_length': 5.0, 'sepal_width': 3.4, 'petal_length': 1.6, 'petal_width': 0.4, 'species': 'setosa'}, {'index': 27, 'sepal_length': 5.2, 'sepal_width': 3.5, 'petal_length': 1.5, 'petal_width': 0.2, 'species': 'setosa'}, {'index': 28, 'sepal_length': 5.2, 'sepal_width': 3.4, 'petal_length': 1.4, 'petal_width': 0.2, 'species': 'setosa'}, {'index': 29, 'sepal_length': 4.7, 'sepal_width': 3.2, 'petal_length': 1.6, 'petal_width': 0.2, 'species': 'setosa'}, {'index': 30, 'sepal_length': 4.8, 'sepal_width': 3.1, 'petal_length': 1.6, 'petal_width': 0.2, 'species': 'setosa'}, {'index': 31, 'sepal_length': 5.4, 'sepal_width': 3.4, 'petal_length': 1.5, 'petal_width': 0.4, 'species': 'setosa'}, {'index': 32, 'sepal_length': 5.2, 'sepal_width': 4.1, 'petal_length': 1.5, 'petal_width': 0.1, 'species': 'setosa'}, {'index': 33, 'sepal_length': 5.5, 'sepal_width': 4.2, 'petal_length': 1.4, 'petal_width': 0.2, 'species': 'setosa'}, {'index': 34, 'sepal_length': 4.9, 'sepal_width': 3.1, 'petal_length': 1.5, 'petal_width': 0.2, 'species': 'setosa'}, {'index': 35, 'sepal_length': 5.0, 'sepal_width': 3.2, 'petal_length': 1.2, 'petal_width': 0.2, 'species': 'setosa'}, {'index': 36, 'sepal_length': 5.5, 'sepal_width': 3.5, 'petal_length': 1.3, 'petal_width': 0.2, 'species': 'setosa'}, {'index': 37, 'sepal_length': 4.9, 'sepal_width': 3.6, 'petal_length': 1.4, 'petal_width': 0.1, 'species': 'setosa'}, {'index': 38, 'sepal_length': 4.4, 'sepal_width': 3.0, 'petal_length': 1.3, 'petal_width': 0.2, 'species': 'setosa'}, {'index': 39, 'sepal_length': 5.1, 'sepal_width': 3.4, 'petal_length': 1.5, 'petal_width': 0.2, 'species': 'setosa'}, {'index': 40, 'sepal_length': 5.0, 'sepal_width': 3.5, 'petal_length': 1.3, 'petal_width': 0.3, 'species': 'setosa'}, {'index': 41, 'sepal_length': 4.5, 'sepal_width': 2.3, 'petal_length': 1.3, 'petal_width': 0.3, 'species': 'setosa'}, {'index': 42, 'sepal_length': 4.4, 'sepal_width': 3.2, 'petal_length': 1.3, 'petal_width': 0.2, 'species': 'setosa'}, {'index': 43, 'sepal_length': 5.0, 'sepal_width': 3.5, 'petal_length': 1.6, 'petal_width': 0.6, 'species': 'setosa'}, {'index': 44, 'sepal_length': 5.1, 'sepal_width': 3.8, 'petal_length': 1.9, 'petal_width': 0.4, 'species': 'setosa'}, {'index': 45, 'sepal_length': 4.8, 'sepal_width': 3.0, 'petal_length': 1.4, 'petal_width': 0.3, 'species': 'setosa'}, {'index': 46, 'sepal_length': 5.1, 'sepal_width': 3.8, 'petal_length': 1.6, 'petal_width': 0.2, 'species': 'setosa'}, {'index': 47, 'sepal_length': 4.6, 'sepal_width': 3.2, 'petal_length': 1.4, 'petal_width': 0.2, 'species': 'setosa'}, {'index': 48, 'sepal_length': 5.3, 'sepal_width': 3.7, 'petal_length': 1.5, 'petal_width': 0.2, 'species': 'setosa'}, {'index': 49, 'sepal_length': 5.0, 'sepal_width': 3.3, 'petal_length': 1.4, 'petal_width': 0.2, 'species': 'setosa'}, {'index': 50, 'sepal_length': 7.0, 'sepal_width': 3.2, 'petal_length': 4.7, 'petal_width': 1.4, 'species': 'versicolor'}, {'index': 51, 'sepal_length': 6.4, 'sepal_width': 3.2, 'petal_length': 4.5, 'petal_width': 1.5, 'species': 'versicolor'}, {'index': 52, 'sepal_length': 6.9, 'sepal_width': 3.1, 'petal_length': 4.9, 'petal_width': 1.5, 'species': 'versicolor'}, {'index': 53, 'sepal_length': 5.5, 'sepal_width': 2.3, 'petal_length': 4.0, 'petal_width': 1.3, 'species': 'versicolor'}, {'index': 54, 'sepal_length': 6.5, 'sepal_width': 2.8, 'petal_length': 4.6, 'petal_width': 1.5, 'species': 'versicolor'}, {'index': 55, 'sepal_length': 5.7, 'sepal_width': 2.8, 'petal_length': 4.5, 'petal_width': 1.3, 'species': 'versicolor'}, {'index': 56, 'sepal_length': 6.3, 'sepal_width': 3.3, 'petal_length': 4.7, 'petal_width': 1.6, 'species': 'versicolor'}, {'index': 57, 'sepal_length': 4.9, 'sepal_width': 2.4, 'petal_length': 3.3, 'petal_width': 1.0, 'species': 'versicolor'}, {'index': 58, 'sepal_length': 6.6, 'sepal_width': 2.9, 'petal_length': 4.6, 'petal_width': 1.3, 'species': 'versicolor'}, {'index': 59, 'sepal_length': 5.2, 'sepal_width': 2.7, 'petal_length': 3.9, 'petal_width': 1.4, 'species': 'versicolor'}, {'index': 60, 'sepal_length': 5.0, 'sepal_width': 2.0, 'petal_length': 3.5, 'petal_width': 1.0, 'species': 'versicolor'}, {'index': 61, 'sepal_length': 5.9, 'sepal_width': 3.0, 'petal_length': 4.2, 'petal_width': 1.5, 'species': 'versicolor'}, {'index': 62, 'sepal_length': 6.0, 'sepal_width': 2.2, 'petal_length': 4.0, 'petal_width': 1.0, 'species': 'versicolor'}, {'index': 63, 'sepal_length': 6.1, 'sepal_width': 2.9, 'petal_length': 4.7, 'petal_width': 1.4, 'species': 'versicolor'}, {'index': 64, 'sepal_length': 5.6, 'sepal_width': 2.9, 'petal_length': 3.6, 'petal_width': 1.3, 'species': 'versicolor'}, {'index': 65, 'sepal_length': 6.7, 'sepal_width': 3.1, 'petal_length': 4.4, 'petal_width': 1.4, 'species': 'versicolor'}, {'index': 66, 'sepal_length': 5.6, 'sepal_width': 3.0, 'petal_length': 4.5, 'petal_width': 1.5, 'species': 'versicolor'}, {'index': 67, 'sepal_length': 5.8, 'sepal_width': 2.7, 'petal_length': 4.1, 'petal_width': 1.0, 'species': 'versicolor'}, {'index': 68, 'sepal_length': 6.2, 'sepal_width': 2.2, 'petal_length': 4.5, 'petal_width': 1.5, 'species': 'versicolor'}, {'index': 69, 'sepal_length': 5.6, 'sepal_width': 2.5, 'petal_length': 3.9, 'petal_width': 1.1, 'species': 'versicolor'}, {'index': 70, 'sepal_length': 5.9, 'sepal_width': 3.2, 'petal_length': 4.8, 'petal_width': 1.8, 'species': 'versicolor'}, {'index': 71, 'sepal_length': 6.1, 'sepal_width': 2.8, 'petal_length': 4.0, 'petal_width': 1.3, 'species': 'versicolor'}, {'index': 72, 'sepal_length': 6.3, 'sepal_width': 2.5, 'petal_length': 4.9, 'petal_width': 1.5, 'species': 'versicolor'}, {'index': 73, 'sepal_length': 6.1, 'sepal_width': 2.8, 'petal_length': 4.7, 'petal_width': 1.2, 'species': 'versicolor'}, {'index': 74, 'sepal_length': 6.4, 'sepal_width': 2.9, 'petal_length': 4.3, 'petal_width': 1.3, 'species': 'versicolor'}, {'index': 75, 'sepal_length': 6.6, 'sepal_width': 3.0, 'petal_length': 4.4, 'petal_width': 1.4, 'species': 'versicolor'}, {'index': 76, 'sepal_length': 6.8, 'sepal_width': 2.8, 'petal_length': 4.8, 'petal_width': 1.4, 'species': 'versicolor'}, {'index': 77, 'sepal_length': 6.7, 'sepal_width': 3.0, 'petal_length': 5.0, 'petal_width': 1.7, 'species': 'versicolor'}, {'index': 78, 'sepal_length': 6.0, 'sepal_width': 2.9, 'petal_length': 4.5, 'petal_width': 1.5, 'species': 'versicolor'}, {'index': 79, 'sepal_length': 5.7, 'sepal_width': 2.6, 'petal_length': 3.5, 'petal_width': 1.0, 'species': 'versicolor'}, {'index': 80, 'sepal_length': 5.5, 'sepal_width': 2.4, 'petal_length': 3.8, 'petal_width': 1.1, 'species': 'versicolor'}, {'index': 81, 'sepal_length': 5.5, 'sepal_width': 2.4, 'petal_length': 3.7, 'petal_width': 1.0, 'species': 'versicolor'}, {'index': 82, 'sepal_length': 5.8, 'sepal_width': 2.7, 'petal_length': 3.9, 'petal_width': 1.2, 'species': 'versicolor'}, {'index': 83, 'sepal_length': 6.0, 'sepal_width': 2.7, 'petal_length': 5.1, 'petal_width': 1.6, 'species': 'versicolor'}, {'index': 84, 'sepal_length': 5.4, 'sepal_width': 3.0, 'petal_length': 4.5, 'petal_width': 1.5, 'species': 'versicolor'}, {'index': 85, 'sepal_length': 6.0, 'sepal_width': 3.4, 'petal_length': 4.5, 'petal_width': 1.6, 'species': 'versicolor'}, {'index': 86, 'sepal_length': 6.7, 'sepal_width': 3.1, 'petal_length': 4.7, 'petal_width': 1.5, 'species': 'versicolor'}, {'index': 87, 'sepal_length': 6.3, 'sepal_width': 2.3, 'petal_length': 4.4, 'petal_width': 1.3, 'species': 'versicolor'}, {'index': 88, 'sepal_length': 5.6, 'sepal_width': 3.0, 'petal_length': 4.1, 'petal_width': 1.3, 'species': 'versicolor'}, {'index': 89, 'sepal_length': 5.5, 'sepal_width': 2.5, 'petal_length': 4.0, 'petal_width': 1.3, 'species': 'versicolor'}, {'index': 90, 'sepal_length': 5.5, 'sepal_width': 2.6, 'petal_length': 4.4, 'petal_width': 1.2, 'species': 'versicolor'}, {'index': 91, 'sepal_length': 6.1, 'sepal_width': 3.0, 'petal_length': 4.6, 'petal_width': 1.4, 'species': 'versicolor'}, {'index': 92, 'sepal_length': 5.8, 'sepal_width': 2.6, 'petal_length': 4.0, 'petal_width': 1.2, 'species': 'versicolor'}, {'index': 93, 'sepal_length': 5.0, 'sepal_width': 2.3, 'petal_length': 3.3, 'petal_width': 1.0, 'species': 'versicolor'}, {'index': 94, 'sepal_length': 5.6, 'sepal_width': 2.7, 'petal_length': 4.2, 'petal_width': 1.3, 'species': 'versicolor'}, {'index': 95, 'sepal_length': 5.7, 'sepal_width': 3.0, 'petal_length': 4.2, 'petal_width': 1.2, 'species': 'versicolor'}, {'index': 96, 'sepal_length': 5.7, 'sepal_width': 2.9, 'petal_length': 4.2, 'petal_width': 1.3, 'species': 'versicolor'}, {'index': 97, 'sepal_length': 6.2, 'sepal_width': 2.9, 'petal_length': 4.3, 'petal_width': 1.3, 'species': 'versicolor'}, {'index': 98, 'sepal_length': 5.1, 'sepal_width': 2.5, 'petal_length': 3.0, 'petal_width': 1.1, 'species': 'versicolor'}, {'index': 99, 'sepal_length': 5.7, 'sepal_width': 2.8, 'petal_length': 4.1, 'petal_width': 1.3, 'species': 'versicolor'}, {'index': 100, 'sepal_length': 6.3, 'sepal_width': 3.3, 'petal_length': 6.0, 'petal_width': 2.5, 'species': 'virginica'}, {'index': 101, 'sepal_length': 5.8, 'sepal_width': 2.7, 'petal_length': 5.1, 'petal_width': 1.9, 'species': 'virginica'}, {'index': 102, 'sepal_length': 7.1, 'sepal_width': 3.0, 'petal_length': 5.9, 'petal_width': 2.1, 'species': 'virginica'}, {'index': 103, 'sepal_length': 6.3, 'sepal_width': 2.9, 'petal_length': 5.6, 'petal_width': 1.8, 'species': 'virginica'}, {'index': 104, 'sepal_length': 6.5, 'sepal_width': 3.0, 'petal_length': 5.8, 'petal_width': 2.2, 'species': 'virginica'}, {'index': 105, 'sepal_length': 7.6, 'sepal_width': 3.0, 'petal_length': 6.6, 'petal_width': 2.1, 'species': 'virginica'}, {'index': 106, 'sepal_length': 4.9, 'sepal_width': 2.5, 'petal_length': 4.5, 'petal_width': 1.7, 'species': 'virginica'}, {'index': 107, 'sepal_length': 7.3, 'sepal_width': 2.9, 'petal_length': 6.3, 'petal_width': 1.8, 'species': 'virginica'}, {'index': 108, 'sepal_length': 6.7, 'sepal_width': 2.5, 'petal_length': 5.8, 'petal_width': 1.8, 'species': 'virginica'}, {'index': 109, 'sepal_length': 7.2, 'sepal_width': 3.6, 'petal_length': 6.1, 'petal_width': 2.5, 'species': 'virginica'}, {'index': 110, 'sepal_length': 6.5, 'sepal_width': 3.2, 'petal_length': 5.1, 'petal_width': 2.0, 'species': 'virginica'}, {'index': 111, 'sepal_length': 6.4, 'sepal_width': 2.7, 'petal_length': 5.3, 'petal_width': 1.9, 'species': 'virginica'}, {'index': 112, 'sepal_length': 6.8, 'sepal_width': 3.0, 'petal_length': 5.5, 'petal_width': 2.1, 'species': 'virginica'}, {'index': 113, 'sepal_length': 5.7, 'sepal_width': 2.5, 'petal_length': 5.0, 'petal_width': 2.0, 'species': 'virginica'}, {'index': 114, 'sepal_length': 5.8, 'sepal_width': 2.8, 'petal_length': 5.1, 'petal_width': 2.4, 'species': 'virginica'}, {'index': 115, 'sepal_length': 6.4, 'sepal_width': 3.2, 'petal_length': 5.3, 'petal_width': 2.3, 'species': 'virginica'}, {'index': 116, 'sepal_length': 6.5, 'sepal_width': 3.0, 'petal_length': 5.5, 'petal_width': 1.8, 'species': 'virginica'}, {'index': 117, 'sepal_length': 7.7, 'sepal_width': 3.8, 'petal_length': 6.7, 'petal_width': 2.2, 'species': 'virginica'}, {'index': 118, 'sepal_length': 7.7, 'sepal_width': 2.6, 'petal_length': 6.9, 'petal_width': 2.3, 'species': 'virginica'}, {'index': 119, 'sepal_length': 6.0, 'sepal_width': 2.2, 'petal_length': 5.0, 'petal_width': 1.5, 'species': 'virginica'}, {'index': 120, 'sepal_length': 6.9, 'sepal_width': 3.2, 'petal_length': 5.7, 'petal_width': 2.3, 'species': 'virginica'}, {'index': 121, 'sepal_length': 5.6, 'sepal_width': 2.8, 'petal_length': 4.9, 'petal_width': 2.0, 'species': 'virginica'}, {'index': 122, 'sepal_length': 7.7, 'sepal_width': 2.8, 'petal_length': 6.7, 'petal_width': 2.0, 'species': 'virginica'}, {'index': 123, 'sepal_length': 6.3, 'sepal_width': 2.7, 'petal_length': 4.9, 'petal_width': 1.8, 'species': 'virginica'}, {'index': 124, 'sepal_length': 6.7, 'sepal_width': 3.3, 'petal_length': 5.7, 'petal_width': 2.1, 'species': 'virginica'}, {'index': 125, 'sepal_length': 7.2, 'sepal_width': 3.2, 'petal_length': 6.0, 'petal_width': 1.8, 'species': 'virginica'}, {'index': 126, 'sepal_length': 6.2, 'sepal_width': 2.8, 'petal_length': 4.8, 'petal_width': 1.8, 'species': 'virginica'}, {'index': 127, 'sepal_length': 6.1, 'sepal_width': 3.0, 'petal_length': 4.9, 'petal_width': 1.8, 'species': 'virginica'}, {'index': 128, 'sepal_length': 6.4, 'sepal_width': 2.8, 'petal_length': 5.6, 'petal_width': 2.1, 'species': 'virginica'}, {'index': 129, 'sepal_length': 7.2, 'sepal_width': 3.0, 'petal_length': 5.8, 'petal_width': 1.6, 'species': 'virginica'}, {'index': 130, 'sepal_length': 7.4, 'sepal_width': 2.8, 'petal_length': 6.1, 'petal_width': 1.9, 'species': 'virginica'}, {'index': 131, 'sepal_length': 7.9, 'sepal_width': 3.8, 'petal_length': 6.4, 'petal_width': 2.0, 'species': 'virginica'}, {'index': 132, 'sepal_length': 6.4, 'sepal_width': 2.8, 'petal_length': 5.6, 'petal_width': 2.2, 'species': 'virginica'}, {'index': 133, 'sepal_length': 6.3, 'sepal_width': 2.8, 'petal_length': 5.1, 'petal_width': 1.5, 'species': 'virginica'}, {'index': 134, 'sepal_length': 6.1, 'sepal_width': 2.6, 'petal_length': 5.6, 'petal_width': 1.4, 'species': 'virginica'}, {'index': 135, 'sepal_length': 7.7, 'sepal_width': 3.0, 'petal_length': 6.1, 'petal_width': 2.3, 'species': 'virginica'}, {'index': 136, 'sepal_length': 6.3, 'sepal_width': 3.4, 'petal_length': 5.6, 'petal_width': 2.4, 'species': 'virginica'}, {'index': 137, 'sepal_length': 6.4, 'sepal_width': 3.1, 'petal_length': 5.5, 'petal_width': 1.8, 'species': 'virginica'}, {'index': 138, 'sepal_length': 6.0, 'sepal_width': 3.0, 'petal_length': 4.8, 'petal_width': 1.8, 'species': 'virginica'}, {'index': 139, 'sepal_length': 6.9, 'sepal_width': 3.1, 'petal_length': 5.4, 'petal_width': 2.1, 'species': 'virginica'}, {'index': 140, 'sepal_length': 6.7, 'sepal_width': 3.1, 'petal_length': 5.6, 'petal_width': 2.4, 'species': 'virginica'}, {'index': 141, 'sepal_length': 6.9, 'sepal_width': 3.1, 'petal_length': 5.1, 'petal_width': 2.3, 'species': 'virginica'}, {'index': 142, 'sepal_length': 5.8, 'sepal_width': 2.7, 'petal_length': 5.1, 'petal_width': 1.9, 'species': 'virginica'}, {'index': 143, 'sepal_length': 6.8, 'sepal_width': 3.2, 'petal_length': 5.9, 'petal_width': 2.3, 'species': 'virginica'}, {'index': 144, 'sepal_length': 6.7, 'sepal_width': 3.3, 'petal_length': 5.7, 'petal_width': 2.5, 'species': 'virginica'}, {'index': 145, 'sepal_length': 6.7, 'sepal_width': 3.0, 'petal_length': 5.2, 'petal_width': 2.3, 'species': 'virginica'}, {'index': 146, 'sepal_length': 6.3, 'sepal_width': 2.5, 'petal_length': 5.0, 'petal_width': 1.9, 'species': 'virginica'}, {'index': 147, 'sepal_length': 6.5, 'sepal_width': 3.0, 'petal_length': 5.2, 'petal_width': 2.0, 'species': 'virginica'}, {'index': 148, 'sepal_length': 6.2, 'sepal_width': 3.4, 'petal_length': 5.4, 'petal_width': 2.3, 'species': 'virginica'}, {'index': 149, 'sepal_length': 5.9, 'sepal_width': 3.0, 'petal_length': 5.1, 'petal_width': 1.8, 'species': 'virginica'}]\n"
     ]
    }
   ],
   "source": [
    "# database\n",
    "conn = pymysql.connect(host='localhost', user='root', password='1234', db='practice')\n",
    "curs = conn.cursor(pymysql.cursors.DictCursor)\n",
    "\n",
    "sql = '''\n",
    "    select * from iris\n",
    "    '''\n",
    "curs.execute(sql)\n",
    "# data\n",
    "data = curs.fetchall()\n",
    "print(data)\n",
    "\n",
    "# close\n",
    "curs.close()\n",
    "conn.close()"
   ]
  },
  {
   "cell_type": "markdown",
   "metadata": {},
   "source": [
    "### Data Generation"
   ]
  },
  {
   "cell_type": "code",
   "execution_count": 3,
   "metadata": {},
   "outputs": [
    {
     "data": {
      "text/plain": [
       "[{'index': 0,\n",
       "  'sepal_length': 5.1,\n",
       "  'sepal_width': 3.5,\n",
       "  'petal_length': 1.4,\n",
       "  'petal_width': 0.2,\n",
       "  'species': 'setosa'},\n",
       " {'index': 1,\n",
       "  'sepal_length': 4.9,\n",
       "  'sepal_width': 3.0,\n",
       "  'petal_length': 1.4,\n",
       "  'petal_width': 0.2,\n",
       "  'species': 'setosa'}]"
      ]
     },
     "execution_count": 3,
     "metadata": {},
     "output_type": "execute_result"
    }
   ],
   "source": [
    "# 데이터 모양 확인\n",
    "data[:2]"
   ]
  },
  {
   "cell_type": "code",
   "execution_count": 4,
   "metadata": {},
   "outputs": [
    {
     "data": {
      "text/plain": [
       "(array([[5.1, 3.5, 1.4, 0.2],\n",
       "        [4.9, 3. , 1.4, 0.2],\n",
       "        [4.7, 3.2, 1.3, 0.2],\n",
       "        [4.6, 3.1, 1.5, 0.2],\n",
       "        [5. , 3.6, 1.4, 0.2],\n",
       "        [5.4, 3.9, 1.7, 0.4],\n",
       "        [4.6, 3.4, 1.4, 0.3],\n",
       "        [5. , 3.4, 1.5, 0.2],\n",
       "        [4.4, 2.9, 1.4, 0.2],\n",
       "        [4.9, 3.1, 1.5, 0.1],\n",
       "        [5.4, 3.7, 1.5, 0.2],\n",
       "        [4.8, 3.4, 1.6, 0.2],\n",
       "        [4.8, 3. , 1.4, 0.1],\n",
       "        [4.3, 3. , 1.1, 0.1],\n",
       "        [5.8, 4. , 1.2, 0.2],\n",
       "        [5.7, 4.4, 1.5, 0.4],\n",
       "        [5.4, 3.9, 1.3, 0.4],\n",
       "        [5.1, 3.5, 1.4, 0.3],\n",
       "        [5.7, 3.8, 1.7, 0.3],\n",
       "        [5.1, 3.8, 1.5, 0.3],\n",
       "        [5.4, 3.4, 1.7, 0.2],\n",
       "        [5.1, 3.7, 1.5, 0.4],\n",
       "        [4.6, 3.6, 1. , 0.2],\n",
       "        [5.1, 3.3, 1.7, 0.5],\n",
       "        [4.8, 3.4, 1.9, 0.2],\n",
       "        [5. , 3. , 1.6, 0.2],\n",
       "        [5. , 3.4, 1.6, 0.4],\n",
       "        [5.2, 3.5, 1.5, 0.2],\n",
       "        [5.2, 3.4, 1.4, 0.2],\n",
       "        [4.7, 3.2, 1.6, 0.2],\n",
       "        [4.8, 3.1, 1.6, 0.2],\n",
       "        [5.4, 3.4, 1.5, 0.4],\n",
       "        [5.2, 4.1, 1.5, 0.1],\n",
       "        [5.5, 4.2, 1.4, 0.2],\n",
       "        [4.9, 3.1, 1.5, 0.2],\n",
       "        [5. , 3.2, 1.2, 0.2],\n",
       "        [5.5, 3.5, 1.3, 0.2],\n",
       "        [4.9, 3.6, 1.4, 0.1],\n",
       "        [4.4, 3. , 1.3, 0.2],\n",
       "        [5.1, 3.4, 1.5, 0.2],\n",
       "        [5. , 3.5, 1.3, 0.3],\n",
       "        [4.5, 2.3, 1.3, 0.3],\n",
       "        [4.4, 3.2, 1.3, 0.2],\n",
       "        [5. , 3.5, 1.6, 0.6],\n",
       "        [5.1, 3.8, 1.9, 0.4],\n",
       "        [4.8, 3. , 1.4, 0.3],\n",
       "        [5.1, 3.8, 1.6, 0.2],\n",
       "        [4.6, 3.2, 1.4, 0.2],\n",
       "        [5.3, 3.7, 1.5, 0.2],\n",
       "        [5. , 3.3, 1.4, 0.2],\n",
       "        [7. , 3.2, 4.7, 1.4],\n",
       "        [6.4, 3.2, 4.5, 1.5],\n",
       "        [6.9, 3.1, 4.9, 1.5],\n",
       "        [5.5, 2.3, 4. , 1.3],\n",
       "        [6.5, 2.8, 4.6, 1.5],\n",
       "        [5.7, 2.8, 4.5, 1.3],\n",
       "        [6.3, 3.3, 4.7, 1.6],\n",
       "        [4.9, 2.4, 3.3, 1. ],\n",
       "        [6.6, 2.9, 4.6, 1.3],\n",
       "        [5.2, 2.7, 3.9, 1.4],\n",
       "        [5. , 2. , 3.5, 1. ],\n",
       "        [5.9, 3. , 4.2, 1.5],\n",
       "        [6. , 2.2, 4. , 1. ],\n",
       "        [6.1, 2.9, 4.7, 1.4],\n",
       "        [5.6, 2.9, 3.6, 1.3],\n",
       "        [6.7, 3.1, 4.4, 1.4],\n",
       "        [5.6, 3. , 4.5, 1.5],\n",
       "        [5.8, 2.7, 4.1, 1. ],\n",
       "        [6.2, 2.2, 4.5, 1.5],\n",
       "        [5.6, 2.5, 3.9, 1.1],\n",
       "        [5.9, 3.2, 4.8, 1.8],\n",
       "        [6.1, 2.8, 4. , 1.3],\n",
       "        [6.3, 2.5, 4.9, 1.5],\n",
       "        [6.1, 2.8, 4.7, 1.2],\n",
       "        [6.4, 2.9, 4.3, 1.3],\n",
       "        [6.6, 3. , 4.4, 1.4],\n",
       "        [6.8, 2.8, 4.8, 1.4],\n",
       "        [6.7, 3. , 5. , 1.7],\n",
       "        [6. , 2.9, 4.5, 1.5],\n",
       "        [5.7, 2.6, 3.5, 1. ],\n",
       "        [5.5, 2.4, 3.8, 1.1],\n",
       "        [5.5, 2.4, 3.7, 1. ],\n",
       "        [5.8, 2.7, 3.9, 1.2],\n",
       "        [6. , 2.7, 5.1, 1.6],\n",
       "        [5.4, 3. , 4.5, 1.5],\n",
       "        [6. , 3.4, 4.5, 1.6],\n",
       "        [6.7, 3.1, 4.7, 1.5],\n",
       "        [6.3, 2.3, 4.4, 1.3],\n",
       "        [5.6, 3. , 4.1, 1.3],\n",
       "        [5.5, 2.5, 4. , 1.3],\n",
       "        [5.5, 2.6, 4.4, 1.2],\n",
       "        [6.1, 3. , 4.6, 1.4],\n",
       "        [5.8, 2.6, 4. , 1.2],\n",
       "        [5. , 2.3, 3.3, 1. ],\n",
       "        [5.6, 2.7, 4.2, 1.3],\n",
       "        [5.7, 3. , 4.2, 1.2],\n",
       "        [5.7, 2.9, 4.2, 1.3],\n",
       "        [6.2, 2.9, 4.3, 1.3],\n",
       "        [5.1, 2.5, 3. , 1.1],\n",
       "        [5.7, 2.8, 4.1, 1.3],\n",
       "        [6.3, 3.3, 6. , 2.5],\n",
       "        [5.8, 2.7, 5.1, 1.9],\n",
       "        [7.1, 3. , 5.9, 2.1],\n",
       "        [6.3, 2.9, 5.6, 1.8],\n",
       "        [6.5, 3. , 5.8, 2.2],\n",
       "        [7.6, 3. , 6.6, 2.1],\n",
       "        [4.9, 2.5, 4.5, 1.7],\n",
       "        [7.3, 2.9, 6.3, 1.8],\n",
       "        [6.7, 2.5, 5.8, 1.8],\n",
       "        [7.2, 3.6, 6.1, 2.5],\n",
       "        [6.5, 3.2, 5.1, 2. ],\n",
       "        [6.4, 2.7, 5.3, 1.9],\n",
       "        [6.8, 3. , 5.5, 2.1],\n",
       "        [5.7, 2.5, 5. , 2. ],\n",
       "        [5.8, 2.8, 5.1, 2.4],\n",
       "        [6.4, 3.2, 5.3, 2.3],\n",
       "        [6.5, 3. , 5.5, 1.8],\n",
       "        [7.7, 3.8, 6.7, 2.2],\n",
       "        [7.7, 2.6, 6.9, 2.3],\n",
       "        [6. , 2.2, 5. , 1.5],\n",
       "        [6.9, 3.2, 5.7, 2.3],\n",
       "        [5.6, 2.8, 4.9, 2. ],\n",
       "        [7.7, 2.8, 6.7, 2. ],\n",
       "        [6.3, 2.7, 4.9, 1.8],\n",
       "        [6.7, 3.3, 5.7, 2.1],\n",
       "        [7.2, 3.2, 6. , 1.8],\n",
       "        [6.2, 2.8, 4.8, 1.8],\n",
       "        [6.1, 3. , 4.9, 1.8],\n",
       "        [6.4, 2.8, 5.6, 2.1],\n",
       "        [7.2, 3. , 5.8, 1.6],\n",
       "        [7.4, 2.8, 6.1, 1.9],\n",
       "        [7.9, 3.8, 6.4, 2. ],\n",
       "        [6.4, 2.8, 5.6, 2.2],\n",
       "        [6.3, 2.8, 5.1, 1.5],\n",
       "        [6.1, 2.6, 5.6, 1.4],\n",
       "        [7.7, 3. , 6.1, 2.3],\n",
       "        [6.3, 3.4, 5.6, 2.4],\n",
       "        [6.4, 3.1, 5.5, 1.8],\n",
       "        [6. , 3. , 4.8, 1.8],\n",
       "        [6.9, 3.1, 5.4, 2.1],\n",
       "        [6.7, 3.1, 5.6, 2.4],\n",
       "        [6.9, 3.1, 5.1, 2.3],\n",
       "        [5.8, 2.7, 5.1, 1.9],\n",
       "        [6.8, 3.2, 5.9, 2.3],\n",
       "        [6.7, 3.3, 5.7, 2.5],\n",
       "        [6.7, 3. , 5.2, 2.3],\n",
       "        [6.3, 2.5, 5. , 1.9],\n",
       "        [6.5, 3. , 5.2, 2. ],\n",
       "        [6.2, 3.4, 5.4, 2.3],\n",
       "        [5.9, 3. , 5.1, 1.8]]),\n",
       " array([-1, -1, -1, -1, -1, -1, -1, -1, -1, -1, -1, -1, -1, -1, -1, -1, -1,\n",
       "        -1, -1, -1, -1, -1, -1, -1, -1, -1, -1, -1, -1, -1, -1, -1, -1, -1,\n",
       "        -1, -1, -1, -1, -1, -1, -1, -1, -1, -1, -1, -1, -1, -1, -1, -1,  1,\n",
       "         1,  1,  1,  1,  1,  1,  1,  1,  1,  1,  1,  1,  1,  1,  1,  1,  1,\n",
       "         1,  1,  1,  1,  1,  1,  1,  1,  1,  1,  1,  1,  1,  1,  1,  1,  1,\n",
       "         1,  1,  1,  1,  1,  1,  1,  1,  1,  1,  1,  1,  1,  1,  1, -1, -1,\n",
       "        -1, -1, -1, -1, -1, -1, -1, -1, -1, -1, -1, -1, -1, -1, -1, -1, -1,\n",
       "        -1, -1, -1, -1, -1, -1, -1, -1, -1, -1, -1, -1, -1, -1, -1, -1, -1,\n",
       "        -1, -1, -1, -1, -1, -1, -1, -1, -1, -1, -1, -1, -1, -1]))"
      ]
     },
     "execution_count": 4,
     "metadata": {},
     "output_type": "execute_result"
    }
   ],
   "source": [
    "# list comprehension 이용\n",
    "X = [(t['sepal_length'],t['sepal_width'],t['petal_length'],t['petal_width']) for t in data]\n",
    "X = np.array(X)\n",
    "\n",
    "y = [1 if (t['species'] == 'versicolor') else -1 for t in data]\n",
    "y = np.array(y)\n",
    "\n",
    "# 확인\n",
    "X,y"
   ]
  },
  {
   "cell_type": "code",
   "execution_count": 16,
   "metadata": {},
   "outputs": [
    {
     "data": {
      "text/plain": [
       "((90, 4), (60, 4))"
      ]
     },
     "execution_count": 16,
     "metadata": {},
     "output_type": "execute_result"
    }
   ],
   "source": [
    "# split\n",
    "X_train,X_test,y_train,y_test = train_test_split(X, y, test_size=0.4, random_state=42)\n",
    "X_train.shape, X_test.shape"
   ]
  },
  {
   "cell_type": "code",
   "execution_count": 17,
   "metadata": {},
   "outputs": [],
   "source": [
    "# model fit\n",
    "clf = DecisionTreeClassifier()\n",
    "clf.fit(X_train,y_train)\n",
    "\n",
    "# predict\n",
    "y_pred = clf.predict(X_test)"
   ]
  },
  {
   "cell_type": "code",
   "execution_count": 18,
   "metadata": {},
   "outputs": [
    {
     "name": "stdout",
     "output_type": "stream",
     "text": [
      "Accracy : 0.9666666666666667\n",
      "Precision : 0.9473684210526315\n",
      "Recall : 0.9473684210526315\n",
      "F1 : 0.9473684210526315\n"
     ]
    }
   ],
   "source": [
    "# evaluate : accuracy_score,precision_score,recall_score,f1_score\n",
    "acc = accuracy_score(y_test,y_pred)\n",
    "pr = precision_score(y_test,y_pred)\n",
    "rc = recall_score(y_test,y_pred)\n",
    "f1 = f1_score(y_test,y_pred)\n",
    "\n",
    "print(f'Accracy : {acc}')\n",
    "print(f'Precision : {pr}')\n",
    "print(f'Recall : {rc}')\n",
    "print(f'F1 : {f1}')"
   ]
  },
  {
   "cell_type": "markdown",
   "metadata": {},
   "source": [
    "iris data 는 너무 좋기 때문에 test size 를 0.3 이상으로 주면 모든 평가지표가 1이 나오도록 잘 맞추게 된다   \n",
    "비교하기 위해서 일단 test_size=0.4로 설정함"
   ]
  },
  {
   "cell_type": "markdown",
   "metadata": {},
   "source": [
    "### Performance Function"
   ]
  },
  {
   "cell_type": "code",
   "execution_count": 25,
   "metadata": {},
   "outputs": [],
   "source": [
    "def clf_eval(y_true,y_pred):\n",
    "    \n",
    "    # True/False & Posi&Neg\n",
    "    tp,tn,fp,fn = 0,0,0,0\n",
    "    \n",
    "    for y,yp in zip(y_true,y_pred):\n",
    "        if y == 1 and yp == 1:\n",
    "            tp += 1\n",
    "        elif y == 1 and yp == -1:\n",
    "            fn += 1\n",
    "        elif y == -1 and yp == 1:\n",
    "            fp += 1\n",
    "        else:\n",
    "            tn += 1\n",
    "    \n",
    "    # accuracy\n",
    "    acc = (tp+tn) / (tp+tn+fp+fn)\n",
    "    pre = (tp) / (tp+fp)       # positive 로 예측한 것 중\n",
    "    rec = (tp) / (tp+fn)      # 실제 positive 중 예측한 것\n",
    "    f1 = (2*pre*rec) / (pre+rec)\n",
    "    \n",
    "    print(f'Accracy : {acc}')\n",
    "    print(f'Precision : {pre}')\n",
    "    print(f'Recall : {rec}')\n",
    "    print(f'F1 : {f1}')\n",
    "    return acc,pre,rec,f1"
   ]
  },
  {
   "cell_type": "code",
   "execution_count": 26,
   "metadata": {},
   "outputs": [
    {
     "name": "stdout",
     "output_type": "stream",
     "text": [
      "Accracy : 0.9666666666666667\n",
      "Precision : 0.9473684210526315\n",
      "Recall : 0.9473684210526315\n",
      "F1 : 0.9473684210526315\n"
     ]
    }
   ],
   "source": [
    "acc,pre,rec,f1 = clf_eval(y_test,y_pred)"
   ]
  },
  {
   "cell_type": "markdown",
   "metadata": {},
   "source": [
    "**metrics 와 비교 -> 동일함**  \n",
    "Accracy : 0.9666666666666667  \n",
    "Precision : 0.9473684210526315  \n",
    "Recall : 0.9473684210526315  \n",
    "F1 : 0.9473684210526315  "
   ]
  },
  {
   "cell_type": "markdown",
   "metadata": {},
   "source": [
    "### K-Fold"
   ]
  },
  {
   "cell_type": "code",
   "execution_count": 31,
   "metadata": {},
   "outputs": [
    {
     "name": "stdout",
     "output_type": "stream",
     "text": [
      "Accracy : 1.0\n",
      "Precision : 1.0\n",
      "Recall : 1.0\n",
      "F1 : 1.0\n",
      " \n",
      "Accracy : 0.9666666666666667\n",
      "Precision : 0.9090909090909091\n",
      "Recall : 1.0\n",
      "F1 : 0.9523809523809523\n",
      " \n",
      "Accracy : 0.9333333333333333\n",
      "Precision : 1.0\n",
      "Recall : 0.8\n",
      "F1 : 0.888888888888889\n",
      " \n",
      "Accracy : 0.9333333333333333\n",
      "Precision : 0.9\n",
      "Recall : 0.9\n",
      "F1 : 0.9\n",
      " \n",
      "Accracy : 0.9333333333333333\n",
      "Precision : 0.8461538461538461\n",
      "Recall : 1.0\n",
      "F1 : 0.9166666666666666\n",
      " \n"
     ]
    },
    {
     "data": {
      "text/plain": [
       "(0.9666666666666666,\n",
       " 0.9473684210526315,\n",
       " 0.9473684210526315,\n",
       " 0.9473684210526315)"
      ]
     },
     "execution_count": 31,
     "metadata": {},
     "output_type": "execute_result"
    }
   ],
   "source": [
    "# setting\n",
    "cv=5     # 10\n",
    "\n",
    "kf = KFold(n_splits=cv, random_state=42, shuffle=True)\n",
    "accs = []\n",
    "pres = []\n",
    "recs = []\n",
    "f1s = []\n",
    "\n",
    "# roop\n",
    "for t,v in kf.split(X):\n",
    "    X_train,X_val = X[t],X[v]\n",
    "    y_train,y_val = y[t],y[v]\n",
    "    \n",
    "    # model \n",
    "    clf = DecisionTreeClassifier()\n",
    "    clf.fit(X_train,y_train)\n",
    "    y_pred = clf.predict(X_val)\n",
    "    \n",
    "    # eval\n",
    "    clf_eval(y_val,y_pred)\n",
    "    print(''' ''')\n",
    "    # save\n",
    "    accs.append(acc)\n",
    "    pres.append(pre)\n",
    "    recs.append(rec)\n",
    "    f1s.append(f1)\n",
    "\n",
    "# mean\n",
    "np.mean(accs),np.mean(pres),np.mean(recs),np.mean(f1s)"
   ]
  },
  {
   "cell_type": "code",
   "execution_count": null,
   "metadata": {},
   "outputs": [],
   "source": []
  },
  {
   "cell_type": "code",
   "execution_count": null,
   "metadata": {},
   "outputs": [],
   "source": []
  },
  {
   "cell_type": "code",
   "execution_count": null,
   "metadata": {},
   "outputs": [],
   "source": []
  },
  {
   "cell_type": "code",
   "execution_count": null,
   "metadata": {},
   "outputs": [],
   "source": []
  },
  {
   "cell_type": "code",
   "execution_count": null,
   "metadata": {},
   "outputs": [],
   "source": []
  }
 ],
 "metadata": {
  "kernelspec": {
   "display_name": "Python 3",
   "language": "python",
   "name": "python3"
  },
  "language_info": {
   "codemirror_mode": {
    "name": "ipython",
    "version": 3
   },
   "file_extension": ".py",
   "mimetype": "text/x-python",
   "name": "python",
   "nbconvert_exporter": "python",
   "pygments_lexer": "ipython3",
   "version": "3.8.3"
  },
  "varInspector": {
   "cols": {
    "lenName": 16,
    "lenType": 16,
    "lenVar": 40
   },
   "kernels_config": {
    "python": {
     "delete_cmd_postfix": "",
     "delete_cmd_prefix": "del ",
     "library": "var_list.py",
     "varRefreshCmd": "print(var_dic_list())"
    },
    "r": {
     "delete_cmd_postfix": ") ",
     "delete_cmd_prefix": "rm(",
     "library": "var_list.r",
     "varRefreshCmd": "cat(var_dic_list()) "
    }
   },
   "types_to_exclude": [
    "module",
    "function",
    "builtin_function_or_method",
    "instance",
    "_Feature"
   ],
   "window_display": false
  }
 },
 "nbformat": 4,
 "nbformat_minor": 4
}
