{
  "nbformat": 4,
  "nbformat_minor": 0,
  "metadata": {
    "kernelspec": {
      "display_name": "Python 3",
      "language": "python",
      "name": "python3"
    },
    "language_info": {
      "codemirror_mode": {
        "name": "ipython",
        "version": 3
      },
      "file_extension": ".py",
      "mimetype": "text/x-python",
      "name": "python",
      "nbconvert_exporter": "python",
      "pygments_lexer": "ipython3",
      "version": "3.8.3"
    },
    "varInspector": {
      "cols": {
        "lenName": 16,
        "lenType": 16,
        "lenVar": 40
      },
      "kernels_config": {
        "python": {
          "delete_cmd_postfix": "",
          "delete_cmd_prefix": "del ",
          "library": "var_list.py",
          "varRefreshCmd": "print(var_dic_list())"
        },
        "r": {
          "delete_cmd_postfix": ") ",
          "delete_cmd_prefix": "rm(",
          "library": "var_list.r",
          "varRefreshCmd": "cat(var_dic_list()) "
        }
      },
      "types_to_exclude": [
        "module",
        "function",
        "builtin_function_or_method",
        "instance",
        "_Feature"
      ],
      "window_display": false
    },
    "colab": {
      "name": "w8_lr_gd_1026_gif.ipynb",
      "provenance": [],
      "collapsed_sections": []
    }
  },
  "cells": [
    {
      "cell_type": "markdown",
      "metadata": {
        "id": "ewtkYDSM6meC"
      },
      "source": [
        "# Gradient Descent 과제\n",
        "- updated 1025\n",
        "\n",
        "#### 1. Simple linear regression 시각화\n",
        " - epoch이 증가함에 따라 m,c 가 변하는 추이를 볼 수 있도록 y = mx+c 그래프가 바뀌는 모습을 애니메이션 형태로 표현할 것  \n",
        " scatter plot 과 함께 그릴 것  \n",
        " \n",
        "#### 2. Multiple linear regression 구현\n",
        " - X = [attenedance, homework, midterm], y=score 일 때 multiple linear regression 을 vectorized GD 로 구현할 것.  \n",
        " - ls의 값과 계산된 parameter 값들을 비교할 것.  \n",
        " - epoch이 증가함에 따른 parameter의 추이를 보여줄 것.  "
      ]
    },
    {
      "cell_type": "code",
      "metadata": {
        "id": "gOU5s8Tx68fC",
        "outputId": "eed358f2-4c10-4327-99ef-5215a1068419",
        "colab": {
          "base_uri": "https://localhost:8080/",
          "height": 34
        }
      },
      "source": [
        "from google.colab import drive\n",
        "drive.mount('/content/drive')"
      ],
      "execution_count": 2,
      "outputs": [
        {
          "output_type": "stream",
          "text": [
            "Mounted at /content/drive\n"
          ],
          "name": "stdout"
        }
      ]
    },
    {
      "cell_type": "code",
      "metadata": {
        "id": "Mxi1Wg3s7UPu",
        "outputId": "ce128fde-5bc8-43da-d02d-278706f71f34",
        "colab": {
          "base_uri": "https://localhost:8080/",
          "height": 34
        }
      },
      "source": [
        "cd /content/drive/My Drive/T-I-L"
      ],
      "execution_count": 3,
      "outputs": [
        {
          "output_type": "stream",
          "text": [
            "/content/drive/My Drive/T-I-L\n"
          ],
          "name": "stdout"
        }
      ]
    },
    {
      "cell_type": "code",
      "metadata": {
        "id": "o_jgl_EI7au-",
        "outputId": "930c6713-6130-495e-c92c-863acd8067ab",
        "colab": {
          "base_uri": "https://localhost:8080/",
          "height": 204
        }
      },
      "source": [
        "!pip install celluloid"
      ],
      "execution_count": 4,
      "outputs": [
        {
          "output_type": "stream",
          "text": [
            "Collecting celluloid\n",
            "  Downloading https://files.pythonhosted.org/packages/60/a7/7fbe80721c6f1b7370c4e50c77abe31b4d5cfeb58873d4d32f48ae5a0bae/celluloid-0.2.0-py3-none-any.whl\n",
            "Requirement already satisfied: matplotlib in /usr/local/lib/python3.6/dist-packages (from celluloid) (3.2.2)\n",
            "Requirement already satisfied: pyparsing!=2.0.4,!=2.1.2,!=2.1.6,>=2.0.1 in /usr/local/lib/python3.6/dist-packages (from matplotlib->celluloid) (2.4.7)\n",
            "Requirement already satisfied: python-dateutil>=2.1 in /usr/local/lib/python3.6/dist-packages (from matplotlib->celluloid) (2.8.1)\n",
            "Requirement already satisfied: numpy>=1.11 in /usr/local/lib/python3.6/dist-packages (from matplotlib->celluloid) (1.18.5)\n",
            "Requirement already satisfied: cycler>=0.10 in /usr/local/lib/python3.6/dist-packages (from matplotlib->celluloid) (0.10.0)\n",
            "Requirement already satisfied: kiwisolver>=1.0.1 in /usr/local/lib/python3.6/dist-packages (from matplotlib->celluloid) (1.2.0)\n",
            "Requirement already satisfied: six>=1.5 in /usr/local/lib/python3.6/dist-packages (from python-dateutil>=2.1->matplotlib->celluloid) (1.15.0)\n",
            "Installing collected packages: celluloid\n",
            "Successfully installed celluloid-0.2.0\n"
          ],
          "name": "stdout"
        }
      ]
    },
    {
      "cell_type": "code",
      "metadata": {
        "id": "JLuVe8Wd6meC",
        "outputId": "e72b1fd6-c025-45f0-e301-6ad9c9045567",
        "colab": {
          "base_uri": "https://localhost:8080/",
          "height": 156
        }
      },
      "source": [
        "# ready\n",
        "import numpy as np\n",
        "import pandas as pd\n",
        "\n",
        "import statsmodels.api as sm\n",
        "\n",
        "import matplotlib.pyplot as plt\n",
        "plt.style.use('seaborn')\n",
        "import time\n",
        "\n",
        "# gif\n",
        "from IPython.display import HTML\n",
        "from celluloid import Camera\n",
        "from moviepy.editor import *"
      ],
      "execution_count": 5,
      "outputs": [
        {
          "output_type": "stream",
          "text": [
            "/usr/local/lib/python3.6/dist-packages/statsmodels/tools/_testing.py:19: FutureWarning: pandas.util.testing is deprecated. Use the functions in the public API at pandas.testing instead.\n",
            "  import pandas.util.testing as tm\n"
          ],
          "name": "stderr"
        },
        {
          "output_type": "stream",
          "text": [
            "Imageio: 'ffmpeg-linux64-v3.3.1' was not found on your computer; downloading it now.\n",
            "Try 1. Download from https://github.com/imageio/imageio-binaries/raw/master/ffmpeg/ffmpeg-linux64-v3.3.1 (43.8 MB)\n",
            "Downloading: 8192/45929032 bytes (0.0%)\b\b\b\b\b\b\b\b\b\b\b\b\b\b\b\b\b\b\b\b\b\b\b\b\b\b909312/45929032 bytes (2.0%)\b\b\b\b\b\b\b\b\b\b\b\b\b\b\b\b\b\b\b\b\b\b\b\b\b\b\b\b2564096/45929032 bytes (5.6%)\b\b\b\b\b\b\b\b\b\b\b\b\b\b\b\b\b\b\b\b\b\b\b\b\b\b\b\b\b5070848/45929032 bytes (11.0%)\b\b\b\b\b\b\b\b\b\b\b\b\b\b\b\b\b\b\b\b\b\b\b\b\b\b\b\b\b\b8765440/45929032 bytes (19.1%)\b\b\b\b\b\b\b\b\b\b\b\b\b\b\b\b\b\b\b\b\b\b\b\b\b\b\b\b\b\b12697600/45929032 bytes (27.6%)\b\b\b\b\b\b\b\b\b\b\b\b\b\b\b\b\b\b\b\b\b\b\b\b\b\b\b\b\b\b\b16711680/45929032 bytes (36.4%)\b\b\b\b\b\b\b\b\b\b\b\b\b\b\b\b\b\b\b\b\b\b\b\b\b\b\b\b\b\b\b20414464/45929032 bytes (44.4%)\b\b\b\b\b\b\b\b\b\b\b\b\b\b\b\b\b\b\b\b\b\b\b\b\b\b\b\b\b\b\b24338432/45929032 bytes (53.0%)\b\b\b\b\b\b\b\b\b\b\b\b\b\b\b\b\b\b\b\b\b\b\b\b\b\b\b\b\b\b\b28147712/45929032 bytes (61.3%)\b\b\b\b\b\b\b\b\b\b\b\b\b\b\b\b\b\b\b\b\b\b\b\b\b\b\b\b\b\b\b31997952/45929032 bytes (69.7%)\b\b\b\b\b\b\b\b\b\b\b\b\b\b\b\b\b\b\b\b\b\b\b\b\b\b\b\b\b\b\b35635200/45929032 bytes (77.6%)\b\b\b\b\b\b\b\b\b\b\b\b\b\b\b\b\b\b\b\b\b\b\b\b\b\b\b\b\b\b\b39657472/45929032 bytes (86.3%)\b\b\b\b\b\b\b\b\b\b\b\b\b\b\b\b\b\b\b\b\b\b\b\b\b\b\b\b\b\b\b43638784/45929032 bytes (95.0%)\b\b\b\b\b\b\b\b\b\b\b\b\b\b\b\b\b\b\b\b\b\b\b\b\b\b\b\b\b\b\b45929032/45929032 bytes (100.0%)\n",
            "  Done\n",
            "File saved as /root/.imageio/ffmpeg/ffmpeg-linux64-v3.3.1.\n"
          ],
          "name": "stdout"
        }
      ]
    },
    {
      "cell_type": "markdown",
      "metadata": {
        "id": "sagmZ_hV61FS"
      },
      "source": [
        "### Load data"
      ]
    },
    {
      "cell_type": "code",
      "metadata": {
        "id": "X2dQsaa-66dK"
      },
      "source": [
        "data = pd.read_excel('db_score.xlsx')\n",
        "X = data['midterm']\n",
        "y = data['score']"
      ],
      "execution_count": 6,
      "outputs": []
    },
    {
      "cell_type": "markdown",
      "metadata": {
        "id": "_Srgf1Og6meI"
      },
      "source": [
        "### step2) y = mx+c"
      ]
    },
    {
      "cell_type": "markdown",
      "metadata": {
        "id": "KdLJMQ-W6meN"
      },
      "source": [
        "* descent GD"
      ]
    },
    {
      "cell_type": "code",
      "metadata": {
        "id": "KC3GVWnL6meO",
        "outputId": "2fed0258-4081-4c16-8cc7-aab8575ea506",
        "colab": {
          "base_uri": "https://localhost:8080/",
          "height": 1000
        }
      },
      "source": [
        "def gradient_descent_vectorized(X, y):\n",
        "    \n",
        "    # setting\n",
        "    epochs = 100000\n",
        "    min_grad = 0.0001\n",
        "    learning_rate = 0.001\n",
        "    m = 0.0\n",
        "    c = 0.0\n",
        "    n = len(y)\n",
        "    \n",
        "    c_grad = 0.0\n",
        "    m_grad = 0.0\n",
        "    \n",
        "    coef = []\n",
        "    intercept = []\n",
        "\n",
        "    for epoch in range(epochs):    \n",
        "    \n",
        "        y_pred = m * X + c\n",
        "        m_grad = (2*(y_pred - y)*X).sum()/n\n",
        "        c_grad = (2 * (y_pred - y)).sum()/n\n",
        "        \n",
        "        m = m - learning_rate * m_grad\n",
        "        c = c - learning_rate * c_grad        \n",
        "\n",
        "        if ( epoch % 1000 == 0):\n",
        "            print(\"epoch %d: m_grad=%f, c_grad=%f, m=%f, c=%f\" %(epoch, m_grad, c_grad, m, c) )\n",
        "            coef.append(m); intercept.append(c)\n",
        "    \n",
        "        if ( abs(m_grad) < min_grad and abs(c_grad) < min_grad ):\n",
        "            break\n",
        "\n",
        "    return m, c, coef, intercept\n",
        "\n",
        "start_time = time.time()\n",
        "m, c, coef, intercept = gradient_descent_vectorized(X, y)\n",
        "end_time = time.time()\n",
        "\n",
        "print(\"%f seconds\" %(end_time - start_time))\n",
        "\n",
        "print(\"\\n\\nFinal:\")\n",
        "print(\"gdv_m=%f, gdv_c=%f\" %(m, c) )\n",
        "#print(\"ls_m=%f, ls_c=%f\" %(ls_m, ls_c) )"
      ],
      "execution_count": 8,
      "outputs": [
        {
          "output_type": "stream",
          "text": [
            "epoch 0: m_grad=-3227.859378, c_grad=-128.088261, m=3.227859, c=0.128088\n",
            "epoch 1000: m_grad=0.152477, c_grad=-3.995112, m=2.441183, c=4.530306\n",
            "epoch 2000: m_grad=0.124641, c_grad=-3.265779, m=2.303106, c=8.148144\n",
            "epoch 3000: m_grad=0.101887, c_grad=-2.669590, m=2.190235, c=11.105523\n",
            "epoch 4000: m_grad=0.083287, c_grad=-2.182239, m=2.097970, c=13.523012\n",
            "epoch 5000: m_grad=0.068082, c_grad=-1.783857, m=2.022548, c=15.499174\n",
            "epoch 6000: m_grad=0.055653, c_grad=-1.458203, m=1.960895, c=17.114574\n",
            "epoch 7000: m_grad=0.045494, c_grad=-1.191998, m=1.910497, c=18.435073\n",
            "epoch 8000: m_grad=0.037188, c_grad=-0.974391, m=1.869300, c=19.514506\n",
            "epoch 9000: m_grad=0.030399, c_grad=-0.796510, m=1.835623, c=20.396882\n",
            "epoch 10000: m_grad=0.024850, c_grad=-0.651102, m=1.808094, c=21.118175\n",
            "epoch 11000: m_grad=0.020313, c_grad=-0.532239, m=1.785591, c=21.707790\n",
            "epoch 12000: m_grad=0.016605, c_grad=-0.435075, m=1.767196, c=22.189768\n",
            "epoch 13000: m_grad=0.013574, c_grad=-0.355650, m=1.752159, c=22.583757\n",
            "epoch 14000: m_grad=0.011096, c_grad=-0.290723, m=1.739867, c=22.905822\n",
            "epoch 15000: m_grad=0.009070, c_grad=-0.237650, m=1.729819, c=23.169091\n",
            "epoch 16000: m_grad=0.007414, c_grad=-0.194265, m=1.721606, c=23.384299\n",
            "epoch 17000: m_grad=0.006061, c_grad=-0.158801, m=1.714892, c=23.560219\n",
            "epoch 18000: m_grad=0.004954, c_grad=-0.129811, m=1.709403, c=23.704024\n",
            "epoch 19000: m_grad=0.004050, c_grad=-0.106113, m=1.704917, c=23.821576\n",
            "epoch 20000: m_grad=0.003311, c_grad=-0.086741, m=1.701249, c=23.917669\n",
            "epoch 21000: m_grad=0.002706, c_grad=-0.070906, m=1.698251, c=23.996219\n",
            "epoch 22000: m_grad=0.002212, c_grad=-0.057962, m=1.695801, c=24.060429\n",
            "epoch 23000: m_grad=0.001808, c_grad=-0.047381, m=1.693798, c=24.112917\n",
            "epoch 24000: m_grad=0.001478, c_grad=-0.038731, m=1.692160, c=24.155824\n",
            "epoch 25000: m_grad=0.001208, c_grad=-0.031660, m=1.690821, c=24.190897\n",
            "epoch 26000: m_grad=0.000988, c_grad=-0.025881, m=1.689727, c=24.219567\n",
            "epoch 27000: m_grad=0.000807, c_grad=-0.021156, m=1.688833, c=24.243004\n",
            "epoch 28000: m_grad=0.000660, c_grad=-0.017294, m=1.688102, c=24.262162\n",
            "epoch 29000: m_grad=0.000540, c_grad=-0.014137, m=1.687504, c=24.277823\n",
            "epoch 30000: m_grad=0.000441, c_grad=-0.011556, m=1.687015, c=24.290624\n",
            "epoch 31000: m_grad=0.000361, c_grad=-0.009446, m=1.686616, c=24.301089\n",
            "epoch 32000: m_grad=0.000295, c_grad=-0.007722, m=1.686289, c=24.309643\n",
            "epoch 33000: m_grad=0.000241, c_grad=-0.006312, m=1.686022, c=24.316636\n",
            "epoch 34000: m_grad=0.000197, c_grad=-0.005160, m=1.685804, c=24.322352\n",
            "epoch 35000: m_grad=0.000161, c_grad=-0.004218, m=1.685626, c=24.327025\n",
            "epoch 36000: m_grad=0.000132, c_grad=-0.003448, m=1.685480, c=24.330844\n",
            "epoch 37000: m_grad=0.000108, c_grad=-0.002818, m=1.685361, c=24.333966\n",
            "epoch 38000: m_grad=0.000088, c_grad=-0.002304, m=1.685264, c=24.336519\n",
            "epoch 39000: m_grad=0.000072, c_grad=-0.001883, m=1.685184, c=24.338605\n",
            "epoch 40000: m_grad=0.000059, c_grad=-0.001540, m=1.685119, c=24.340311\n",
            "epoch 41000: m_grad=0.000048, c_grad=-0.001258, m=1.685066, c=24.341705\n",
            "epoch 42000: m_grad=0.000039, c_grad=-0.001029, m=1.685022, c=24.342844\n",
            "epoch 43000: m_grad=0.000032, c_grad=-0.000841, m=1.684987, c=24.343776\n",
            "epoch 44000: m_grad=0.000026, c_grad=-0.000687, m=1.684958, c=24.344537\n",
            "epoch 45000: m_grad=0.000021, c_grad=-0.000562, m=1.684934, c=24.345160\n",
            "epoch 46000: m_grad=0.000018, c_grad=-0.000459, m=1.684914, c=24.345669\n",
            "epoch 47000: m_grad=0.000014, c_grad=-0.000375, m=1.684899, c=24.346085\n",
            "epoch 48000: m_grad=0.000012, c_grad=-0.000307, m=1.684886, c=24.346425\n",
            "epoch 49000: m_grad=0.000010, c_grad=-0.000251, m=1.684875, c=24.346703\n",
            "epoch 50000: m_grad=0.000008, c_grad=-0.000205, m=1.684866, c=24.346930\n",
            "epoch 51000: m_grad=0.000006, c_grad=-0.000168, m=1.684859, c=24.347116\n",
            "epoch 52000: m_grad=0.000005, c_grad=-0.000137, m=1.684853, c=24.347267\n",
            "epoch 53000: m_grad=0.000004, c_grad=-0.000112, m=1.684849, c=24.347391\n",
            "66.442275 seconds\n",
            "\n",
            "\n",
            "Final:\n",
            "gdv_m=1.684846, gdv_c=24.347451\n"
          ],
          "name": "stdout"
        }
      ]
    },
    {
      "cell_type": "markdown",
      "metadata": {
        "id": "0oy8PmMJ6meR"
      },
      "source": [
        "### step3) Visualize\n",
        "### 1. Simple linear regression 시각화¶\n",
        "epoch이 증가함에 따라 m,c 가 변하는 추이를 볼 수 있도록 y = mx+c 그래프가 바뀌는 모습을 애니메이션 형태로 표현할 것\n",
        "scatter plot 과 함께 그릴 것"
      ]
    },
    {
      "cell_type": "code",
      "metadata": {
        "id": "d3IMwpZG6meR",
        "outputId": "2ad7740a-a73f-4702-d6a3-88d91b7ad1aa",
        "colab": {
          "base_uri": "https://localhost:8080/",
          "height": 347
        }
      },
      "source": [
        "# Visualize\n",
        "fig, axes = plt.subplots()\n",
        "camera = Camera(fig)\n",
        "\n",
        "for i in range(len(coef)):\n",
        "    y_pred = coef[i]*X + intercept[i]\n",
        "    axes.scatter(X, y, color='green')\n",
        "    axes.plot([min(X),max(X)], [min(y_pred), max(y_pred)], color='red')\n",
        "    axes.legend([f'm = {coef[i]}, c = {intercept[i]}'], loc='upper left')\n",
        "    plt.show()\n",
        "    \n",
        "    camera.snap()"
      ],
      "execution_count": 41,
      "outputs": [
        {
          "output_type": "display_data",
          "data": {
            "image/png": "[encoded data removed]",
            "text/plain": [
              "<Figure size 576x396 with 1 Axes>"
            ]
          },
          "metadata": {
            "tags": []
          }
        }
      ]
    },
    {
      "cell_type": "code",
      "metadata": {
        "id": "XDhZ3_S06meU",
        "outputId": "3cabe89c-e0c7-4ff2-8ffc-cda32b9f9a47",
        "colab": {
          "base_uri": "https://localhost:8080/",
          "height": 68
        }
      },
      "source": [
        "# Save animation\n",
        "animation = camera.animate(interval=300, repeat=True)\n",
        "HTML(animation.to_html5_video())\n",
        "\n",
        "animation.save('animation_lr.mp4')\n",
        "\n",
        "clip = (VideoFileClip('animation_lr.mp4').speedx(2))\n",
        "clip.write_gif('animation_lr.gif')"
      ],
      "execution_count": 43,
      "outputs": [
        {
          "output_type": "stream",
          "text": [
            "\n",
            "[MoviePy] Building file animation_lr.gif with imageio\n"
          ],
          "name": "stdout"
        },
        {
          "output_type": "stream",
          "text": [
            "100%|██████████| 27/27 [00:01<00:00, 26.38it/s]\n"
          ],
          "name": "stderr"
        }
      ]
    },
    {
      "cell_type": "markdown",
      "metadata": {
        "id": "AufHbsdE6meW"
      },
      "source": [
        "gif moviepy 설치가 안되는 이슈때문에 colab 에서 만듦 - 1026\n"
      ]
    }
  ]
}