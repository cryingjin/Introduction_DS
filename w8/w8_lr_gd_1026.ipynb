{
 "cells": [
  {
   "cell_type": "markdown",
   "metadata": {},
   "source": [
    "# Gradient Descent 과제\n",
    "- updated 1025\n",
    "\n",
    "#### 1. Simple linear regression 시각화\n",
    " - epoch이 증가함에 따라 m,c 가 변하는 추이를 볼 수 있도록 y = mx+c 그래프가 바뀌는 모습을 애니메이션 형태로 표현할 것  \n",
    " scatter plot 과 함께 그릴 것  \n",
    " \n",
    "#### 2. Multiple linear regression 구현\n",
    " - X = [attenedance, homework, midterm], y=score 일 때 multiple linear regression 을 vectorized GD 로 구현할 것.  \n",
    " - ls의 값과 계산된 parameter 값들을 비교할 것.  \n",
    " - epoch이 증가함에 따른 parameter의 추이를 보여줄 것.  "
   ]
  },
  {
   "cell_type": "code",
   "execution_count": 2,
   "metadata": {},
   "outputs": [],
   "source": [
    "# ready\n",
    "import numpy as np\n",
    "import pandas as pd\n",
    "\n",
    "import pymysql\n",
    "import statsmodels.api as sm\n",
    "\n",
    "import matplotlib.pyplot as plt\n",
    "plt.style.use('seaborn')\n",
    "import time\n",
    "\n",
    "# gif\n",
    "from IPython.display import HTML\n",
    "from celluloid import Camera\n",
    "#from moviepy.editor import *"
   ]
  },
  {
   "cell_type": "markdown",
   "metadata": {},
   "source": [
    "### step1) load data"
   ]
  },
  {
   "cell_type": "code",
   "execution_count": 3,
   "metadata": {},
   "outputs": [],
   "source": [
    "# database to python\n",
    "\n",
    "sql = \"select * from db_score\"\n",
    "def load_db_data(sql):\n",
    "    conn = pymysql.connect(host='localhost', user='root', password='1234', db='university')\n",
    "    curs = conn.cursor(pymysql.cursors.DictCursor)\n",
    "    #sql = \"select * from db_score\"\n",
    "    \n",
    "    curs.execute(sql)\n",
    "\n",
    "    data  = curs.fetchall()\n",
    "    \n",
    "    curs.close()\n",
    "    conn.close()\n",
    "    \n",
    "    #X = [ (t['attendance'], t['homework'], t['midterm'] ) for t in data ]\n",
    "    X = [ ( t['midterm'] ) for t in data ]\n",
    "    X = np.array(X)\n",
    "    \n",
    "    y = [ (t['score']) for t in data]\n",
    "    y = np.array(y)\n",
    "\n",
    "    return X, y\n",
    "\n",
    "X,y = load_db_data(sql)"
   ]
  },
  {
   "cell_type": "markdown",
   "metadata": {},
   "source": [
    "### step2) y = mx+c"
   ]
  },
  {
   "cell_type": "markdown",
   "metadata": {},
   "source": [
    "* naive GD"
   ]
  },
  {
   "cell_type": "code",
   "execution_count": 4,
   "metadata": {},
   "outputs": [
    {
     "name": "stdout",
     "output_type": "stream",
     "text": [
      "epoch 0: m_grad=-3227.859378, c_grad=-128.088261, m=3.227859, c=0.128088\n",
      "epoch 1000: m_grad=0.153812, c_grad=-4.030093, m=2.439509, c=4.574169\n",
      "epoch 2000: m_grad=0.125454, c_grad=-3.287082, m=2.300372, c=8.219775\n",
      "epoch 3000: m_grad=0.102325, c_grad=-2.681057, m=2.186887, c=11.193257\n",
      "epoch 4000: m_grad=0.083460, c_grad=-2.186762, m=2.094324, c=13.618531\n",
      "epoch 5000: m_grad=0.068072, c_grad=-1.783598, m=2.018827, c=15.596667\n",
      "epoch 6000: m_grad=0.055522, c_grad=-1.454764, m=1.957249, c=17.210103\n",
      "epoch 7000: m_grad=0.045286, c_grad=-1.186555, m=1.907024, c=18.526077\n",
      "epoch 8000: m_grad=0.036937, c_grad=-0.967795, m=1.866058, c=19.599430\n",
      "epoch 9000: m_grad=0.030127, c_grad=-0.789367, m=1.832646, c=20.474894\n",
      "epoch 10000: m_grad=0.024572, c_grad=-0.643835, m=1.805393, c=21.188952\n",
      "epoch 11000: m_grad=0.020042, c_grad=-0.525134, m=1.783165, c=21.771362\n",
      "epoch 12000: m_grad=0.016347, c_grad=-0.428317, m=1.765035, c=22.246396\n",
      "epoch 13000: m_grad=0.013333, c_grad=-0.349350, m=1.750247, c=22.633850\n",
      "epoch 14000: m_grad=0.010875, c_grad=-0.284942, m=1.738186, c=22.949871\n",
      "epoch 15000: m_grad=0.008870, c_grad=-0.232408, m=1.728349, c=23.207628\n",
      "epoch 16000: m_grad=0.007235, c_grad=-0.189560, m=1.720325, c=23.417864\n",
      "epoch 17000: m_grad=0.005901, c_grad=-0.154612, m=1.713780, c=23.589339\n",
      "epoch 18000: m_grad=0.004813, c_grad=-0.126107, m=1.708442, c=23.729201\n",
      "epoch 19000: m_grad=0.003926, c_grad=-0.102857, m=1.704089, c=23.843276\n",
      "epoch 20000: m_grad=0.003202, c_grad=-0.083894, m=1.700538, c=23.936320\n",
      "epoch 21000: m_grad=0.002612, c_grad=-0.068427, m=1.697641, c=24.012210\n",
      "epoch 22000: m_grad=0.002130, c_grad=-0.055811, m=1.695279, c=24.074109\n",
      "epoch 23000: m_grad=0.001737, c_grad=-0.045521, m=1.693352, c=24.124595\n",
      "epoch 24000: m_grad=0.001417, c_grad=-0.037129, m=1.691780, c=24.165773\n",
      "epoch 25000: m_grad=0.001156, c_grad=-0.030284, m=1.690498, c=24.199360\n",
      "epoch 26000: m_grad=0.000943, c_grad=-0.024700, m=1.689453, c=24.226754\n",
      "epoch 27000: m_grad=0.000769, c_grad=-0.020146, m=1.688600, c=24.249098\n",
      "epoch 28000: m_grad=0.000627, c_grad=-0.016432, m=1.687905, c=24.267323\n",
      "epoch 29000: m_grad=0.000512, c_grad=-0.013403, m=1.687337, c=24.282187\n",
      "epoch 30000: m_grad=0.000417, c_grad=-0.010932, m=1.686875, c=24.294311\n",
      "epoch 31000: m_grad=0.000340, c_grad=-0.008916, m=1.686497, c=24.304200\n",
      "epoch 32000: m_grad=0.000278, c_grad=-0.007272, m=1.686189, c=24.312265\n",
      "epoch 33000: m_grad=0.000226, c_grad=-0.005932, m=1.685938, c=24.318844\n",
      "epoch 34000: m_grad=0.000185, c_grad=-0.004838, m=1.685733, c=24.324209\n",
      "epoch 35000: m_grad=0.000151, c_grad=-0.003946, m=1.685566, c=24.328586\n",
      "epoch 36000: m_grad=0.000123, c_grad=-0.003219, m=1.685430, c=24.332155\n",
      "epoch 37000: m_grad=0.000100, c_grad=-0.002625, m=1.685319, c=24.335067\n",
      "epoch 38000: m_grad=0.000082, c_grad=-0.002141, m=1.685228, c=24.337442\n",
      "epoch 39000: m_grad=0.000067, c_grad=-0.001746, m=1.685154, c=24.339378\n",
      "epoch 40000: m_grad=0.000054, c_grad=-0.001424, m=1.685094, c=24.340958\n",
      "epoch 41000: m_grad=0.000044, c_grad=-0.001162, m=1.685045, c=24.342247\n",
      "epoch 42000: m_grad=0.000036, c_grad=-0.000948, m=1.685005, c=24.343298\n",
      "epoch 43000: m_grad=0.000029, c_grad=-0.000773, m=1.684972, c=24.344155\n",
      "epoch 44000: m_grad=0.000024, c_grad=-0.000630, m=1.684946, c=24.344854\n",
      "epoch 45000: m_grad=0.000020, c_grad=-0.000514, m=1.684924, c=24.345424\n",
      "epoch 46000: m_grad=0.000016, c_grad=-0.000419, m=1.684906, c=24.345889\n",
      "epoch 47000: m_grad=0.000013, c_grad=-0.000342, m=1.684892, c=24.346269\n",
      "epoch 48000: m_grad=0.000011, c_grad=-0.000279, m=1.684880, c=24.346578\n",
      "epoch 49000: m_grad=0.000009, c_grad=-0.000228, m=1.684870, c=24.346831\n",
      "epoch 50000: m_grad=0.000007, c_grad=-0.000186, m=1.684862, c=24.347037\n",
      "epoch 51000: m_grad=0.000006, c_grad=-0.000151, m=1.684856, c=24.347204\n",
      "epoch 52000: m_grad=0.000005, c_grad=-0.000123, m=1.684851, c=24.347341\n",
      "epoch 53000: m_grad=0.000004, c_grad=-0.000101, m=1.684846, c=24.347453\n",
      "7.258453 seconds\n",
      "\n",
      "\n",
      "Final:\n",
      "gdn_m=1.684846, gdn_c=24.347457\n"
     ]
    }
   ],
   "source": [
    "# y = mx + c\n",
    "\n",
    "def gradient_descent_naive(X, y):\n",
    "\n",
    "    # setting\n",
    "    epochs = 100000\n",
    "    min_grad = 0.0001      # 최소 gradient 값\n",
    "    learning_rate = 0.001\n",
    "    m = 0.0\n",
    "    c = 0.0\n",
    "    n = len(y)\n",
    "    \n",
    "    c_grad = 0.0\n",
    "    m_grad = 0.0\n",
    "    \n",
    "    # roop\n",
    "    for epoch in range(epochs):\n",
    "        \n",
    "        for i in range(n):\n",
    "            y_pred = m * X[i] + c\n",
    "            m_grad += 2*(y_pred-y[i]) * X[i]\n",
    "            c_grad += 2*(y_pred - y[i])\n",
    "\n",
    "        c_grad /= n\n",
    "        m_grad /= n\n",
    "        \n",
    "        m = m - learning_rate * m_grad\n",
    "        c = c - learning_rate * c_grad\n",
    "        \n",
    "        if ( epoch % 1000 == 0):\n",
    "            print(\"epoch %d: m_grad=%f, c_grad=%f, m=%f, c=%f\" %(epoch, m_grad, c_grad, m, c) )   \n",
    "        \n",
    "        if ( abs(m_grad) < min_grad and abs(c_grad) < min_grad ):\n",
    "            break\n",
    "        \n",
    "    return m, c\n",
    "\n",
    "start_time = time.time()\n",
    "m, c = gradient_descent_naive(X, y)\n",
    "end_time = time.time()\n",
    "\n",
    "print(\"%f seconds\" %(end_time - start_time))\n",
    "\n",
    "print(\"\\n\\nFinal:\")\n",
    "print(\"gdn_m=%f, gdn_c=%f\" %(m, c) )\n",
    "#print(\"ls_m=%f, ls_c=%f\" %(ls_m, ls_c) )"
   ]
  },
  {
   "cell_type": "markdown",
   "metadata": {},
   "source": [
    "* descent GD"
   ]
  },
  {
   "cell_type": "code",
   "execution_count": 6,
   "metadata": {},
   "outputs": [
    {
     "name": "stdout",
     "output_type": "stream",
     "text": [
      "epoch 0: m_grad=-3227.859378, c_grad=-128.088261, m=3.227859, c=0.128088\n",
      "epoch 1000: m_grad=0.152477, c_grad=-3.995112, m=2.441183, c=4.530306\n",
      "epoch 2000: m_grad=0.124641, c_grad=-3.265779, m=2.303106, c=8.148144\n",
      "epoch 3000: m_grad=0.101887, c_grad=-2.669590, m=2.190235, c=11.105523\n",
      "epoch 4000: m_grad=0.083287, c_grad=-2.182239, m=2.097970, c=13.523012\n",
      "epoch 5000: m_grad=0.068082, c_grad=-1.783857, m=2.022548, c=15.499174\n",
      "epoch 6000: m_grad=0.055653, c_grad=-1.458203, m=1.960895, c=17.114574\n",
      "epoch 7000: m_grad=0.045494, c_grad=-1.191998, m=1.910497, c=18.435073\n",
      "epoch 8000: m_grad=0.037188, c_grad=-0.974391, m=1.869300, c=19.514506\n",
      "epoch 9000: m_grad=0.030399, c_grad=-0.796510, m=1.835623, c=20.396882\n",
      "epoch 10000: m_grad=0.024850, c_grad=-0.651102, m=1.808094, c=21.118175\n",
      "epoch 11000: m_grad=0.020313, c_grad=-0.532239, m=1.785591, c=21.707790\n",
      "epoch 12000: m_grad=0.016605, c_grad=-0.435075, m=1.767196, c=22.189768\n",
      "epoch 13000: m_grad=0.013574, c_grad=-0.355650, m=1.752159, c=22.583757\n",
      "epoch 14000: m_grad=0.011096, c_grad=-0.290723, m=1.739867, c=22.905822\n",
      "epoch 15000: m_grad=0.009070, c_grad=-0.237650, m=1.729819, c=23.169091\n",
      "epoch 16000: m_grad=0.007414, c_grad=-0.194265, m=1.721606, c=23.384299\n",
      "epoch 17000: m_grad=0.006061, c_grad=-0.158801, m=1.714892, c=23.560219\n",
      "epoch 18000: m_grad=0.004954, c_grad=-0.129811, m=1.709403, c=23.704024\n",
      "epoch 19000: m_grad=0.004050, c_grad=-0.106113, m=1.704917, c=23.821576\n",
      "epoch 20000: m_grad=0.003311, c_grad=-0.086741, m=1.701249, c=23.917669\n",
      "epoch 21000: m_grad=0.002706, c_grad=-0.070906, m=1.698251, c=23.996219\n",
      "epoch 22000: m_grad=0.002212, c_grad=-0.057962, m=1.695801, c=24.060429\n",
      "epoch 23000: m_grad=0.001808, c_grad=-0.047381, m=1.693798, c=24.112917\n",
      "epoch 24000: m_grad=0.001478, c_grad=-0.038731, m=1.692160, c=24.155824\n",
      "epoch 25000: m_grad=0.001208, c_grad=-0.031660, m=1.690821, c=24.190897\n",
      "epoch 26000: m_grad=0.000988, c_grad=-0.025881, m=1.689727, c=24.219567\n",
      "epoch 27000: m_grad=0.000807, c_grad=-0.021156, m=1.688833, c=24.243004\n",
      "epoch 28000: m_grad=0.000660, c_grad=-0.017294, m=1.688102, c=24.262162\n",
      "epoch 29000: m_grad=0.000540, c_grad=-0.014137, m=1.687504, c=24.277823\n",
      "epoch 30000: m_grad=0.000441, c_grad=-0.011556, m=1.687015, c=24.290624\n",
      "epoch 31000: m_grad=0.000361, c_grad=-0.009446, m=1.686616, c=24.301089\n",
      "epoch 32000: m_grad=0.000295, c_grad=-0.007722, m=1.686289, c=24.309643\n",
      "epoch 33000: m_grad=0.000241, c_grad=-0.006312, m=1.686022, c=24.316636\n",
      "epoch 34000: m_grad=0.000197, c_grad=-0.005160, m=1.685804, c=24.322352\n",
      "epoch 35000: m_grad=0.000161, c_grad=-0.004218, m=1.685626, c=24.327025\n",
      "epoch 36000: m_grad=0.000132, c_grad=-0.003448, m=1.685480, c=24.330844\n",
      "epoch 37000: m_grad=0.000108, c_grad=-0.002818, m=1.685361, c=24.333966\n",
      "epoch 38000: m_grad=0.000088, c_grad=-0.002304, m=1.685264, c=24.336519\n",
      "epoch 39000: m_grad=0.000072, c_grad=-0.001883, m=1.685184, c=24.338605\n",
      "epoch 40000: m_grad=0.000059, c_grad=-0.001540, m=1.685119, c=24.340311\n",
      "epoch 41000: m_grad=0.000048, c_grad=-0.001258, m=1.685066, c=24.341705\n",
      "epoch 42000: m_grad=0.000039, c_grad=-0.001029, m=1.685022, c=24.342844\n",
      "epoch 43000: m_grad=0.000032, c_grad=-0.000841, m=1.684987, c=24.343776\n",
      "epoch 44000: m_grad=0.000026, c_grad=-0.000687, m=1.684958, c=24.344537\n",
      "epoch 45000: m_grad=0.000021, c_grad=-0.000562, m=1.684934, c=24.345160\n",
      "epoch 46000: m_grad=0.000018, c_grad=-0.000459, m=1.684914, c=24.345669\n",
      "epoch 47000: m_grad=0.000014, c_grad=-0.000375, m=1.684899, c=24.346085\n",
      "epoch 48000: m_grad=0.000012, c_grad=-0.000307, m=1.684886, c=24.346425\n",
      "epoch 49000: m_grad=0.000010, c_grad=-0.000251, m=1.684875, c=24.346703\n",
      "epoch 50000: m_grad=0.000008, c_grad=-0.000205, m=1.684866, c=24.346930\n",
      "epoch 51000: m_grad=0.000006, c_grad=-0.000168, m=1.684859, c=24.347116\n",
      "epoch 52000: m_grad=0.000005, c_grad=-0.000137, m=1.684853, c=24.347267\n",
      "epoch 53000: m_grad=0.000004, c_grad=-0.000112, m=1.684849, c=24.347391\n",
      "0.724969 seconds\n",
      "\n",
      "\n",
      "Final:\n",
      "gdv_m=1.684846, gdv_c=24.347451\n"
     ]
    }
   ],
   "source": [
    "def gradient_descent_vectorized(X, y):\n",
    "    \n",
    "    # setting\n",
    "    epochs = 100000\n",
    "    min_grad = 0.0001\n",
    "    learning_rate = 0.001\n",
    "    m = 0.0\n",
    "    c = 0.0\n",
    "    n = len(y)\n",
    "    \n",
    "    c_grad = 0.0\n",
    "    m_grad = 0.0\n",
    "    \n",
    "    coef = []\n",
    "    intercept = []\n",
    "\n",
    "    for epoch in range(epochs):    \n",
    "    \n",
    "        y_pred = m * X + c\n",
    "        m_grad = (2*(y_pred - y)*X).sum()/n\n",
    "        c_grad = (2 * (y_pred - y)).sum()/n\n",
    "        \n",
    "        m = m - learning_rate * m_grad\n",
    "        c = c - learning_rate * c_grad        \n",
    "\n",
    "        if ( epoch % 1000 == 0):\n",
    "            print(\"epoch %d: m_grad=%f, c_grad=%f, m=%f, c=%f\" %(epoch, m_grad, c_grad, m, c) )\n",
    "            coef.append(m); intercept.append(c)\n",
    "    \n",
    "        if ( abs(m_grad) < min_grad and abs(c_grad) < min_grad ):\n",
    "            break\n",
    "\n",
    "    return m, c, coef, intercept\n",
    "\n",
    "start_time = time.time()\n",
    "m, c, coef, intercept = gradient_descent_vectorized(X, y)\n",
    "end_time = time.time()\n",
    "\n",
    "print(\"%f seconds\" %(end_time - start_time))\n",
    "\n",
    "print(\"\\n\\nFinal:\")\n",
    "print(\"gdv_m=%f, gdv_c=%f\" %(m, c) )\n",
    "#print(\"ls_m=%f, ls_c=%f\" %(ls_m, ls_c) )"
   ]
  },
  {
   "cell_type": "markdown",
   "metadata": {},
   "source": [
    "### step3) Visualize\n",
    "### 1. Simple linear regression 시각화¶\n",
    "epoch이 증가함에 따라 m,c 가 변하는 추이를 볼 수 있도록 y = mx+c 그래프가 바뀌는 모습을 애니메이션 형태로 표현할 것\n",
    "scatter plot 과 함께 그릴 것"
   ]
  },
  {
   "cell_type": "code",
   "execution_count": 10,
   "metadata": {},
   "outputs": [
    {
     "data": {
      "image/png": "[encoded data removed]",
      "text/plain": [
       "<Figure size 576x396 with 1 Axes>"
      ]
     },
     "metadata": {},
     "output_type": "display_data"
    }
   ],
   "source": [
    "# Visualize\n",
    "fig, axes = plt.subplots()\n",
    "camera = Camera(fig)\n",
    "\n",
    "for i in range(len(coef)):\n",
    "    y_pred = coef[i]*X + intercept[i]\n",
    "    axes.scatter(X, y, color='green')\n",
    "    axes.plot([min(X),max(X)], [min(y_pred), max(y_pred)], color='red')\n",
    "    plt.show()\n",
    "    camera.snap()"
   ]
  },
  {
   "cell_type": "code",
   "execution_count": 73,
   "metadata": {},
   "outputs": [],
   "source": [
    "# # Save animation\n",
    "# animation = camera.animate(interval=300, repeat=True)\n",
    "# #HTML(animation.to_html5_video())\n",
    "\n",
    "# animation.save('animation_lr.mp4')\n",
    "\n",
    "# clip = (VideoFileClip('animation_lr.mp4').speedx(2))\n",
    "# clip.write_gif('animation_lr.gif')"
   ]
  },
  {
   "cell_type": "markdown",
   "metadata": {},
   "source": [
    "gif moviepy 설치가 안되는 이슈때문에 colab 에서 만듦 - 1026\n"
   ]
  },
  {
   "cell_type": "markdown",
   "metadata": {},
   "source": [
    "### step4) Multiple linear regression\n",
    "### 2. Multiple linear regression 구현  \n",
    "X = [attenedance, homework, midterm], y=score 일 때 multiple linear regression 을 vectorized GD 로 구현할 것.  \n",
    "ls의 값과 계산된 parameter 값들을 비교할 것.  \n",
    "epoch이 증가함에 따른 parameter의 추이를 보여줄 것.  "
   ]
  },
  {
   "cell_type": "code",
   "execution_count": 7,
   "metadata": {},
   "outputs": [],
   "source": [
    "# db to python\n",
    "# database to python\n",
    "\n",
    "sql = \"select * from db_score\"\n",
    "def load_db_data(sql):\n",
    "    conn = pymysql.connect(host='localhost', user='root', password='1234', db='university')\n",
    "    curs = conn.cursor(pymysql.cursors.DictCursor)\n",
    "    #sql = \"select * from db_score\"\n",
    "    \n",
    "    curs.execute(sql)\n",
    "\n",
    "    data  = curs.fetchall()\n",
    "    \n",
    "    curs.close()\n",
    "    conn.close()\n",
    "    \n",
    "    X = [ (t['attendance'], t['homework'], t['midterm'] ) for t in data ]\n",
    "    #X = [ ( t['midterm'] ) for t in data ]\n",
    "    X = np.array(X)\n",
    "    \n",
    "    y = [ (t['score']) for t in data]\n",
    "    y = np.array(y)\n",
    "\n",
    "    return X, y\n",
    "\n",
    "X,y = load_db_data(sql)"
   ]
  },
  {
   "cell_type": "code",
   "execution_count": 12,
   "metadata": {},
   "outputs": [
    {
     "name": "stdout",
     "output_type": "stream",
     "text": [
      "epoch 0: m1_grad=-1003.7138195652175, m2_grad=-2385.0900652173914, m3_grad=-3227.8593782608696,c_grad=-128.08826086956523,m1=1.0037138195652175,m2=2.3850900652173914,m3=3.2278593782608698,c=0.12808826086956523\n",
      "epoch 500000: m1_grad=-0.0015520440039972264, m2_grad=3.614275538769672e-05, m3_grad=6.147821129355157e-06,c_grad=0.011327490602309377,m1=3.512715032347492,m2=0.9413256759331275,m3=1.5189377470392889,c=-16.36983043620843\n",
      "epoch 1000000: m1_grad=-0.0002411314788006134, m2_grad=5.61527612597462e-06, m3_grad=9.551485880482138e-07,c_grad=0.0017598821629060076,m1=3.864734404335263,m2=0.9331281305974186,m3=1.5175433577558872,c=-18.939020562867324\n",
      "epoch 1500000: m1_grad=-3.746311036493303e-05, m2_grad=8.724018588887484e-07, m3_grad=1.4838350930576977e-07,c_grad=0.000273422007639043,m1=3.9194254771873998,m2=0.9318545286742307,m3=1.5173267201161742,c=-19.338179744348267\n",
      "epoch 2000000: m1_grad=-5.820412172481512e-06, m2_grad=1.355387550214128e-07, m3_grad=2.3052146162952973e-08,c_grad=4.247988636751427e-05,m1=3.927922490953647,m2=0.9316566570196836,m3=1.5172930624658258,c=-19.40019463787832\n",
      "epoch 2500000: m1_grad=-9.0428128397884e-07, m2_grad=2.1058208935063823e-08, m3_grad=3.5820215972115006e-09,c_grad=6.599837256376193e-06,m1=3.9292426194350023,m2=0.931625914924401,m3=1.5172878332848372,c=-19.40982950837159\n",
      "epoch 3000000: m1_grad=-1.4049347509525056e-07, m2_grad=3.2695960721471434e-09, m3_grad=5.53700544351752e-10,c_grad=1.025375785014126e-06,m1=3.9294477196331075,m2=0.9316211387151754,m3=1.5172870208593274,c=-19.411326418615392\n",
      "epoch 3500000: m1_grad=-2.182292113201109e-08, m2_grad=5.191436845625899e-10, m3_grad=1.011902059728883e-10,c_grad=1.5930689281749783e-07,m1=3.929479584782403,m2=0.9316203966650816,m3=1.5172868946377913,c=-19.411558984302058\n",
      "epoch 4000000: m1_grad=-3.3951837283636805e-09, m2_grad=6.948814470690749e-11, m3_grad=6.098696427097425e-13,c_grad=2.474992605064462e-08,m1=3.929484535473684,m2=0.9316202813773544,m3=1.5172868750275472,c=-19.411595116595194\n",
      "epoch 4500000: m1_grad=-5.266331139291256e-10, m2_grad=1.2830857149706192e-11, m3_grad=2.801044420562982e-12,c_grad=3.845340780094869e-09,m1=3.9294853046323155,m2=0.9316202634658003,m3=1.5172868719808137,c=-19.411600730248665\n"
     ]
    }
   ],
   "source": [
    "def gradient_descent_vectorized(X, y):\n",
    "    \n",
    "    # setting\n",
    "    epochs = 5000000\n",
    "    min_grad = 0.00001\n",
    "    learning_rate = 0.001\n",
    "    # parameter\n",
    "    m1 = 0.0; m2 = 0.0; m3 = 0.0\n",
    "    c = 0.0\n",
    "    n = len(y)\n",
    "    \n",
    "    c_grad = 0.0\n",
    "    m1_grad = 0.0; m2_grad = 0.0; m3_grad = 0.0\n",
    "    \n",
    "    for epoch in range(epochs):    \n",
    "    \n",
    "        # X (array) -> attenedance, homework, midterm\n",
    "        X1, X2, X3 = X[:,0], X[:,1], X[:,2]\n",
    "        \n",
    "        y_pred = m1*X1 + m2*X2 + m3*X3 + c\n",
    "        \n",
    "        m1_grad = (2*(y_pred - y)*X1).sum()/n\n",
    "        m2_grad = (2*(y_pred - y)*X2).sum()/n\n",
    "        m3_grad = (2*(y_pred - y)*X3).sum()/n\n",
    "        \n",
    "        c_grad = (2 * (y_pred - y)).sum()/n\n",
    "        \n",
    "        m1 = m1 - learning_rate * m1_grad\n",
    "        m2 = m2 - learning_rate * m2_grad\n",
    "        m3 = m3 - learning_rate * m3_grad\n",
    "        \n",
    "        c = c - learning_rate * c_grad        \n",
    "\n",
    "        if ( epoch % 500000 == 0):\n",
    "            print(f\"epoch {epoch}: m1_grad={m1_grad}, m2_grad={m2_grad}, m3_grad={m3_grad},c_grad={c_grad},m1={m1},m2={m2},m3={m3},c={c}\")\n",
    "\n",
    "        if ( any([abs(m1_grad),abs(m2_grad),abs(m3_grad)]) < min_grad ):\n",
    "            break\n",
    "\n",
    "    return m1,m2,m3, c\n",
    "\n",
    "m1,m2,m3, c = gradient_descent_vectorized(X, y)\n",
    "\n",
    "# print(\"\\n\\nFinal:\")\n",
    "# print(\"gdv_m=%f, gdv_c=%f\" %([m1,m2,m3], c) )"
   ]
  },
  {
   "cell_type": "code",
   "execution_count": 13,
   "metadata": {},
   "outputs": [
    {
     "data": {
      "text/plain": [
       "(-19.41160160242508, 3.929485424134178, 0.9316202606829336, 1.5172868715074512)"
      ]
     },
     "execution_count": 13,
     "metadata": {},
     "output_type": "execute_result"
    }
   ],
   "source": [
    "# final parameter\n",
    "c,m1,m2,m3"
   ]
  },
  {
   "cell_type": "markdown",
   "metadata": {},
   "source": [
    "* 비교"
   ]
  },
  {
   "cell_type": "code",
   "execution_count": 14,
   "metadata": {},
   "outputs": [
    {
     "name": "stdout",
     "output_type": "stream",
     "text": [
      "                            OLS Regression Results                            \n",
      "==============================================================================\n",
      "Dep. Variable:                      y   R-squared:                       0.817\n",
      "Model:                            OLS   Adj. R-squared:                  0.811\n",
      "Method:                 Least Squares   F-statistic:                     131.2\n",
      "Date:                Mon, 26 Oct 2020   Prob (F-statistic):           2.24e-32\n",
      "Time:                        18:51:52   Log-Likelihood:                -302.25\n",
      "No. Observations:                  92   AIC:                             612.5\n",
      "Df Residuals:                      88   BIC:                             622.6\n",
      "Df Model:                           3                                         \n",
      "Covariance Type:            nonrobust                                         \n",
      "==============================================================================\n",
      "                 coef    std err          t      P>|t|      [0.025      0.975]\n",
      "------------------------------------------------------------------------------\n",
      "const        -19.4116     15.824     -1.227      0.223     -50.858      12.034\n",
      "x1             3.9295      2.264      1.736      0.086      -0.569       8.428\n",
      "x2             0.9316      0.296      3.151      0.002       0.344       1.519\n",
      "x3             1.5173      0.095     16.040      0.000       1.329       1.705\n",
      "==============================================================================\n",
      "Omnibus:                        0.053   Durbin-Watson:                   1.314\n",
      "Prob(Omnibus):                  0.974   Jarque-Bera (JB):                0.162\n",
      "Skew:                           0.052   Prob(JB):                        0.922\n",
      "Kurtosis:                       2.823   Cond. No.                         732.\n",
      "==============================================================================\n",
      "\n",
      "Warnings:\n",
      "[1] Standard Errors assume that the covariance matrix of the errors is correctly specified.\n"
     ]
    },
    {
     "data": {
      "text/plain": [
       "array([-19.41160176,   3.92948545,   0.93162026,   1.51728687])"
      ]
     },
     "execution_count": 14,
     "metadata": {},
     "output_type": "execute_result"
    }
   ],
   "source": [
    "X_const = sm.add_constant(X)\n",
    "model = sm.OLS(y, X_const)\n",
    "ls = model.fit()\n",
    "\n",
    "print(ls.summary())\n",
    "\n",
    "ls.params"
   ]
  },
  {
   "cell_type": "code",
   "execution_count": 15,
   "metadata": {},
   "outputs": [
    {
     "name": "stdout",
     "output_type": "stream",
     "text": [
      "ls params\n",
      "ls_c = -19.411601762830173, ls_m1 = 3.929485446112187, ls_m2 = 0.9316202601711272, ls_m3 = 1.517286871420397\n",
      "GD params\n",
      "c = -19.41160160242508, m1 = 3.929485424134178, m2 = 0.9316202606829336, m3 = 1.5172868715074512\n"
     ]
    }
   ],
   "source": [
    "# ls\n",
    "ls_c = ls.params[0]\n",
    "ls_m1,ls_m2,ls_m3 = ls.params[1], ls.params[2], ls.params[3]\n",
    "\n",
    "print('ls params')\n",
    "print(f'ls_c = {ls_c}, ls_m1 = {ls_m1}, ls_m2 = {ls_m2}, ls_m3 = {ls_m3}')\n",
    "print('GD params') \n",
    "print(f'c = {c}, m1 = {m1}, m2 = {m2}, m3 = {m3}')"
   ]
  },
  {
   "cell_type": "code",
   "execution_count": null,
   "metadata": {},
   "outputs": [],
   "source": []
  }
 ],
 "metadata": {
  "kernelspec": {
   "display_name": "Python 3",
   "language": "python",
   "name": "python3"
  },
  "language_info": {
   "codemirror_mode": {
    "name": "ipython",
    "version": 3
   },
   "file_extension": ".py",
   "mimetype": "text/x-python",
   "name": "python",
   "nbconvert_exporter": "python",
   "pygments_lexer": "ipython3",
   "version": "3.8.3"
  },
  "varInspector": {
   "cols": {
    "lenName": 16,
    "lenType": 16,
    "lenVar": 40
   },
   "kernels_config": {
    "python": {
     "delete_cmd_postfix": "",
     "delete_cmd_prefix": "del ",
     "library": "var_list.py",
     "varRefreshCmd": "print(var_dic_list())"
    },
    "r": {
     "delete_cmd_postfix": ") ",
     "delete_cmd_prefix": "rm(",
     "library": "var_list.r",
     "varRefreshCmd": "cat(var_dic_list()) "
    }
   },
   "types_to_exclude": [
    "module",
    "function",
    "builtin_function_or_method",
    "instance",
    "_Feature"
   ],
   "window_display": false
  }
 },
 "nbformat": 4,
 "nbformat_minor": 4
}
