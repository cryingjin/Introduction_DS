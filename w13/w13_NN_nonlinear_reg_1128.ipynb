{
  "nbformat": 4,
  "nbformat_minor": 0,
  "metadata": {
    "colab": {
      "name": "w13_NN_nonlinear_reg_1128.ipynb",
      "provenance": [],
      "collapsed_sections": []
    },
    "kernelspec": {
      "name": "python3",
      "display_name": "Python 3"
    },
    "accelerator": "GPU"
  },
  "cells": [
    {
      "cell_type": "code",
      "metadata": {
        "id": "fbBVv4Faqwqb"
      },
      "source": [
        "# ready\n",
        "import numpy as np\n",
        "\n",
        "from tensorflow.keras.models import Sequential\n",
        "from tensorflow.keras.layers import Input, Dense\n",
        "from tensorflow.keras import initializers"
      ],
      "execution_count": 1,
      "outputs": []
    },
    {
      "cell_type": "code",
      "metadata": {
        "id": "ieknYmUmq-7A"
      },
      "source": [
        "# equation\n",
        "\n",
        "\n",
        "# model\n",
        "def gen_senquential_model(config):\n",
        "\n",
        "    if config['hidden_layer'] == 1:\n",
        "        model = Sequential([\n",
        "                            Input(3, name='input_layer'),  # input 변수 3개\n",
        "                            Dense(config['hidden'], activation=config['activation'], name='hidden_layer_1', \n",
        "                                  kernel_initializer=initializers.RandomNormal(mean=0, stddev=0.05, seed=42)), \n",
        "                            Dense(1, activation='relu', name='output_layer',\n",
        "                                  kernel_initializer=initializers.RandomNormal(mean=0, stddev=0.05, seed=42))  # output layer\n",
        "                            ])\n",
        "\n",
        "    elif config['hidden_layer'] == 2:\n",
        "        model = Sequential([\n",
        "                            Input(3, name='input_layer'),  # input 변수 3개\n",
        "                            Dense(config['hidden'], activation=config['activation'], name='hidden_layer_1', \n",
        "                                    kernel_initializer=initializers.RandomNormal(mean=0, stddev=0.05, seed=42)),  \n",
        "                            Dense(config['hidden']*2, activation=config['activation'], name='hidden_layer_2', \n",
        "                                    kernel_initializer=initializers.RandomNormal(mean=0, stddev=0.05, seed=42)),  \n",
        "                            Dense(1, activation='relu', name='output_layer',\n",
        "                                    kernel_initializer=initializers.RandomNormal(mean=0, stddev=0.05, seed=42))  # output layer\n",
        "                            ])\n",
        "    elif config['hidden_layer'] == 3:\n",
        "        model = Sequential([\n",
        "                            Input(3, name='input_layer'),  # input 변수 3개\n",
        "                            Dense(config['hidden'], activation=config['activation'], name='hidden_layer_1', \n",
        "                                    kernel_initializer=initializers.RandomNormal(mean=0, stddev=0.05, seed=42)),  \n",
        "                            Dense(config['hidden']*2, activation=config['activation'], name='hidden_layer_2', \n",
        "                                    kernel_initializer=initializers.RandomNormal(mean=0, stddev=0.05, seed=42)),  \n",
        "                            Dense(config['hidden'], activation=config['activation'], name='hidden_layer_3', \n",
        "                                    kernel_initializer=initializers.RandomNormal(mean=0, stddev=0.05, seed=42)),  \n",
        "                            Dense(1, activation='relu', name='output_layer',\n",
        "                                    kernel_initializer=initializers.RandomNormal(mean=0, stddev=0.05, seed=42))  # output layer\n",
        "                            ])\n",
        "\n",
        "    model.summary()\n",
        "    model.compile(optimizer='sgd', loss = 'mse')\n",
        "\n",
        "    return model\n",
        "\n",
        "\n",
        "# data\n",
        "def gen_linear_regression_dataset(samples=500, a=1, b=3, c=5, d=10, e=20):\n",
        "    np.random.seed(42)\n",
        "    X = np.random.rand(samples, 3)  # 3차원으로\n",
        "    print('shape of X... ',X.shape)\n",
        "    \n",
        "    coef = np.array([b,c,d])\n",
        "    print('shape of coef... ', coef.shape)\n",
        "\n",
        "   # y = a + b*x1 + c*x2^2 + d*x3^3 + e\n",
        "    y = a + coef[0]*X[:,0] + coef[1]*(X[:,1]**2) + coef[2]*(X[:,2]**3) + e\n",
        "    print('shape of y... ', y.shape)\n",
        "\n",
        "    return X, y\n",
        "\n",
        "\n",
        "def plot_loss_curve(history):\n",
        "    import matplotlib.pyplot as plt\n",
        "    \n",
        "    # loss\n",
        "    print('train loss... ', history.history['loss'][-1])\n",
        "    print('val loss... ', history.history['val_loss'][-1])\n",
        "\n",
        "    # visualize\n",
        "    plt.figure(figsize=(10,5))\n",
        "    plt.plot(history.history['loss'][1:])\n",
        "    plt.plot(history.history['val_loss'][1:])\n",
        "    plt.title('model loss')\n",
        "    plt.ylabel('loss')\n",
        "    plt.xlabel('epoch')\n",
        "    plt.legend(['train', 'test'], loc='upper right')\n",
        "    plt.show()\n",
        "\n",
        "def predict_new_sample(model, X, a=1, b=3, c=5, d=10, e=20):\n",
        "    x = X.reshape(1,3)\n",
        "    # y = a + coef[0]*X[:,0] + coef[1]*(X[:,1]**2) + coef[2]*(X[:,2]**3) + e\n",
        "    y_pred = model.predict(x)[0][0]\n",
        "\n",
        "    y_actual = a + b*x[0][0] + c*(x[0][1]**2) + d*(x[0][2]**3) + e\n",
        "\n",
        "    print('y actual value = ', y_actual)\n",
        "    print('y predict value = ', y_pred)\n"
      ],
      "execution_count": 80,
      "outputs": []
    },
    {
      "cell_type": "code",
      "metadata": {
        "colab": {
          "base_uri": "https://localhost:8080/",
          "height": 786
        },
        "id": "wxcZnepXJkYk",
        "outputId": "a3846e01-03a4-4230-f67e-8fe43e84116c"
      },
      "source": [
        "config  = {\n",
        "    'samples' : 1000,   # 100, 500, 1000\n",
        "    'epoch' : 500,    # 100, 500, 1000\n",
        "    'hidden_layer' : 3,     # [1,2,3] 중에 택 1\n",
        "    'hidden' : 64,\n",
        "    'activation' : 'relu'\n",
        "}\n",
        "\n",
        "model = gen_senquential_model(config)\n",
        "X, y = gen_linear_regression_dataset(samples = config['samples'])\n",
        "history = model.fit(X,y, epochs=config['epoch'], verbose=0, validation_split=0.3)\n",
        "\n",
        "plot_loss_curve(history)\n",
        "\n",
        "predict_new_sample(model, np.array([0.1, 0.2, 0.3]))"
      ],
      "execution_count": 103,
      "outputs": [
        {
          "output_type": "stream",
          "text": [
            "Model: \"sequential_40\"\n",
            "_________________________________________________________________\n",
            "Layer (type)                 Output Shape              Param #   \n",
            "=================================================================\n",
            "hidden_layer_1 (Dense)       (None, 64)                256       \n",
            "_________________________________________________________________\n",
            "hidden_layer_2 (Dense)       (None, 128)               8320      \n",
            "_________________________________________________________________\n",
            "hidden_layer_3 (Dense)       (None, 64)                8256      \n",
            "_________________________________________________________________\n",
            "output_layer (Dense)         (None, 1)                 65        \n",
            "=================================================================\n",
            "Total params: 16,897\n",
            "Trainable params: 16,897\n",
            "Non-trainable params: 0\n",
            "_________________________________________________________________\n",
            "shape of X...  (1000, 3)\n",
            "shape of coef...  (3,)\n",
            "shape of y...  (1000,)\n",
            "train loss...  0.009008774533867836\n",
            "val loss...  0.0133906789124012\n"
          ],
          "name": "stdout"
        },
        {
          "output_type": "display_data",
          "data": {
            "image/png": "[encoded data removed]",
            "text/plain": [
              "<Figure size 720x360 with 1 Axes>"
            ]
          },
          "metadata": {
            "tags": [],
            "needs_background": "light"
          }
        },
        {
          "output_type": "stream",
          "text": [
            "[[0.1 0.2 0.3]]\n",
            "WARNING:tensorflow:11 out of the last 11 calls to <function Model.make_predict_function.<locals>.predict_function at 0x7f94d6e91598> triggered tf.function retracing. Tracing is expensive and the excessive number of tracings could be due to (1) creating @tf.function repeatedly in a loop, (2) passing tensors with different shapes, (3) passing Python objects instead of tensors. For (1), please define your @tf.function outside of the loop. For (2), @tf.function has experimental_relax_shapes=True option that relaxes argument shapes that can avoid unnecessary retracing. For (3), please refer to https://www.tensorflow.org/tutorials/customization/performance#python_or_tensor_args and https://www.tensorflow.org/api_docs/python/tf/function for  more details.\n",
            "y actual value =  21.77\n",
            "y predict value =  21.94859\n"
          ],
          "name": "stdout"
        }
      ]
    },
    {
      "cell_type": "code",
      "metadata": {
        "id": "44V00UX5XQFM"
      },
      "source": [
        ""
      ],
      "execution_count": null,
      "outputs": []
    }
  ]
}