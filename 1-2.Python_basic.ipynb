{
 "cells": [
  {
   "cell_type": "markdown",
   "metadata": {},
   "source": [
    "# 1-2. Python Basic\n",
    "updated 0904"
   ]
  },
  {
   "cell_type": "markdown",
   "metadata": {},
   "source": [
    "## Python 특징\n",
    "Easy to code and read  \n",
    "- high level language  \n",
    "- interpreted language  \n",
    "- dynamically typed  \n",
    "\n",
    "Large standard library  \n",
    "High extensible  \n",
    "- easy to import external package & library  \n",
    "\n",
    "Short and powerful coding  \n",
    "Largest warehouse of maching learning & deep learning libraries"
   ]
  },
  {
   "cell_type": "code",
   "execution_count": 3,
   "metadata": {},
   "outputs": [
    {
     "name": "stdout",
     "output_type": "stream",
     "text": [
      "1\n",
      "1\n",
      "2\n",
      "3\n",
      "5\n",
      "8\n",
      "13\n",
      "21\n",
      "34\n",
      "55\n",
      "89\n"
     ]
    }
   ],
   "source": [
    "# a python first  program\n",
    "a,  b = 0, 1\n",
    "while b < 100:\n",
    "    print(b)\n",
    "    a,b = b, a+b\n",
    "\n",
    "# multiple assignment\n",
    "# no type declaration\n",
    "# indentation"
   ]
  },
  {
   "cell_type": "code",
   "execution_count": 6,
   "metadata": {
    "scrolled": false
   },
   "outputs": [
    {
     "name": "stdout",
     "output_type": "stream",
     "text": [
      "Please enter number : 299\n",
      "299 홀수\n",
      "Please enter number : 10\n",
      "10 짝수\n"
     ]
    }
   ],
   "source": [
    "# Control flow : if, elif\n",
    "x = 1\n",
    "while x > 0:\n",
    "    x = int(input('Please enter number : '))\n",
    "    if x <= 0:\n",
    "        print('프로그램을 중단')\n",
    "    elif x%2 == 1:\n",
    "        print(x, '홀수')\n",
    "    else:\n",
    "        print(x, '짝수')\n",
    "        break\n"
   ]
  },
  {
   "cell_type": "code",
   "execution_count": 5,
   "metadata": {},
   "outputs": [
    {
     "name": "stdout",
     "output_type": "stream",
     "text": [
      "0 0\n",
      "1 1\n",
      "2 4\n",
      "3 9\n",
      "4 16\n",
      "5 25\n",
      "6 36\n",
      "7 49\n",
      "8 64\n",
      "9 81\n"
     ]
    }
   ],
   "source": [
    "# Control flow : for\n",
    "for i in range(10):\n",
    "    print(i, i**2)"
   ]
  },
  {
   "cell_type": "code",
   "execution_count": 10,
   "metadata": {},
   "outputs": [
    {
     "data": {
      "text/plain": [
       "(45, 362880)"
      ]
     },
     "execution_count": 10,
     "metadata": {},
     "output_type": "execute_result"
    }
   ],
   "source": [
    "# 함수\n",
    "def compute_two(N):\n",
    "    sum = 0\n",
    "    multi = 1\n",
    "    for k in range(1,N):\n",
    "        sum += k\n",
    "        multi *= k\n",
    "    \n",
    "    return sum, multi \n",
    "\n",
    "a, b = compute_two(10)\n",
    "a, b"
   ]
  },
  {
   "cell_type": "code",
   "execution_count": 11,
   "metadata": {},
   "outputs": [
    {
     "name": "stdout",
     "output_type": "stream",
     "text": [
      "o W\n"
     ]
    }
   ],
   "source": [
    "# string\n",
    "s = 'Hello World!'\n",
    "word = s + ' ' + 'Help'\n",
    "print(s[4:7])"
   ]
  },
  {
   "cell_type": "code",
   "execution_count": 14,
   "metadata": {},
   "outputs": [
    {
     "name": "stdout",
     "output_type": "stream",
     "text": [
      "mouse 5\n"
     ]
    }
   ],
   "source": [
    "# list\n",
    "a = ['mouse', [8,4,6], 5]\n",
    "print(a[0], a[2])"
   ]
  },
  {
   "cell_type": "code",
   "execution_count": 16,
   "metadata": {},
   "outputs": [
    {
     "data": {
      "text/plain": [
       "[1, 2, 4, 8, 16, 32, 64, 128, 256, 512]"
      ]
     },
     "execution_count": 16,
     "metadata": {},
     "output_type": "execute_result"
    }
   ],
   "source": [
    "# list comprehension\n",
    "pow2 = [2**x for x in range(10)]\n",
    "pow2"
   ]
  },
  {
   "cell_type": "code",
   "execution_count": 17,
   "metadata": {},
   "outputs": [
    {
     "data": {
      "text/plain": [
       "[64, 128, 256, 512]"
      ]
     },
     "execution_count": 17,
     "metadata": {},
     "output_type": "execute_result"
    }
   ],
   "source": [
    "# list comprehension : if statement\n",
    "[2**x for x in range(10) if x>5]"
   ]
  },
  {
   "cell_type": "code",
   "execution_count": 20,
   "metadata": {},
   "outputs": [
    {
     "data": {
      "text/plain": [
       "['Python Language', 'Python Programming', 'C Language', 'C Programming']"
      ]
     },
     "execution_count": 20,
     "metadata": {},
     "output_type": "execute_result"
    }
   ],
   "source": [
    "# list comprehension : Nested for\n",
    "[x+' '+ y for x in ['Python','C'] for y in ['Language','Programming']]"
   ]
  },
  {
   "cell_type": "code",
   "execution_count": 22,
   "metadata": {},
   "outputs": [
    {
     "name": "stdout",
     "output_type": "stream",
     "text": [
      "[1, 2]\n"
     ]
    }
   ],
   "source": [
    "# tuple : 순서는 있고 이름은 없는 구조체\n",
    "t = (1,2, [1,2])\n",
    "print(t[2])"
   ]
  },
  {
   "cell_type": "code",
   "execution_count": 28,
   "metadata": {},
   "outputs": [
    {
     "name": "stdout",
     "output_type": "stream",
     "text": [
      "{'a': 100, 1: 200, 2: 300}\n",
      "a\n",
      "1\n",
      "2\n",
      "100\n",
      "200\n",
      "300\n",
      "a 100\n",
      "1 200\n",
      "2 300\n",
      "True\n",
      "True\n"
     ]
    }
   ],
   "source": [
    "# dict\n",
    "d = {}\n",
    "d['a'] = 100\n",
    "d[1] = 200\n",
    "d[2] = 300\n",
    "print(d)\n",
    "\n",
    "for key in d:\n",
    "    print(key)\n",
    "    \n",
    "for value in d.values():\n",
    "    print(value)\n",
    "    \n",
    "for k, v in d.items():\n",
    "    print(k, v)\n",
    "    \n",
    "print('a' in d)\n",
    "print('b' not in d)"
   ]
  }
 ],
 "metadata": {
  "kernelspec": {
   "display_name": "Python 3",
   "language": "python",
   "name": "python3"
  },
  "language_info": {
   "codemirror_mode": {
    "name": "ipython",
    "version": 3
   },
   "file_extension": ".py",
   "mimetype": "text/x-python",
   "name": "python",
   "nbconvert_exporter": "python",
   "pygments_lexer": "ipython3",
   "version": "3.8.3"
  }
 },
 "nbformat": 4,
 "nbformat_minor": 4
}
