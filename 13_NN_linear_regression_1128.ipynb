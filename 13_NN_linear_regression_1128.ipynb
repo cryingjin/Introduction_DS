{
  "nbformat": 4,
  "nbformat_minor": 0,
  "metadata": {
    "colab": {
      "name": "13.NN_linear_regression_1128.ipynb",
      "provenance": [],
      "collapsed_sections": []
    },
    "kernelspec": {
      "name": "python3",
      "display_name": "Python 3"
    }
  },
  "cells": [
    {
      "cell_type": "code",
      "metadata": {
        "id": "fbBVv4Faqwqb"
      },
      "source": [
        "import numpy as np\n",
        "\n",
        "from tensorflow.keras.models import Sequential\n",
        "from tensorflow.keras.layers import Input, Dense\n",
        "from tensorflow.keras import initializers"
      ],
      "execution_count": null,
      "outputs": []
    },
    {
      "cell_type": "code",
      "metadata": {
        "colab": {
          "base_uri": "https://localhost:8080/",
          "height": 961
        },
        "id": "ieknYmUmq-7A",
        "outputId": "0bba1787-b3b6-4804-e0f1-57ed9679bdd6"
      },
      "source": [
        "# equation\n",
        "# y = 3*x1 + 5*x2 + 10\n",
        "\n",
        "# model\n",
        "def gen_senquential_model():\n",
        "\n",
        "    model = Sequential([\n",
        "                        Input(2, name='input_layer'),  # input 변수 2개\n",
        "                        Dense(16, activation='sigmoid', name='hidden_layer1', \n",
        "                              kernel_initializer=initializers.RandomNormal(mean=0, stddev=0.05, seed=42)),  # hidden node 16개\n",
        "                        Dense(1, activation='relu', name='output_layer',\n",
        "                              kernel_initializer=initializers.RandomNormal(mean=0, stddev=0.05, seed=42))  # output layer\n",
        "    ])\n",
        "\n",
        "    print('model summary...:',model.summary())\n",
        "    model.compile(optimizer='sgd', loss = 'mse')\n",
        "\n",
        "    return model\n",
        "\n",
        "\n",
        "def gen_linear_regression_dataset(samples=500, w1=3, w2=5, b=10):\n",
        "    np.random.seed(0)\n",
        "    X = np.random.rand(samples, 2)  # 2차원으로\n",
        "    #print(X)\n",
        "    print(X.shape)\n",
        "    coef = np.array([w1, w2])\n",
        "    bias = b\n",
        "\n",
        "    #print(coef)\n",
        "    print(coef.shape)\n",
        "\n",
        "    y = np.matmul(X, coef.transpose()) + bias\n",
        "    # for roop 없이 y 생성\n",
        "    # X = (samples, 2), coef.T = (2,1)\n",
        "    #print(y)\n",
        "    print(y.shape)\n",
        "\n",
        "    return X, y\n",
        "\n",
        "\n",
        "def plot_loss_curve(history):\n",
        "    import matplotlib.pyplot as plt\n",
        "    \n",
        "    plt.figure(figsize=(15,10))\n",
        "    plt.plot(history.history['loss'][1:])\n",
        "    plt.plot(history.history['val_loss'][1:])\n",
        "    plt.title('model loss')\n",
        "    plt.ylabel('loss')\n",
        "    plt.xlabel('epoch')\n",
        "    plt.legend(['train', 'test'], loc='upper right')\n",
        "    plt.show()\n",
        "\n",
        "def predict_new_sample(model, X, w1=3, w2=5, b=10):\n",
        "    x = X.reshape(1,2)\n",
        "    y_pred = model.predict(x)[0][0]\n",
        "\n",
        "    y_actual = w1*x[0][0] + w2*x[0][1] + b\n",
        "\n",
        "    print('y actual value = ', y_actual)\n",
        "    print('y predict value = ', y_pred)\n",
        "\n",
        "\n",
        "model = gen_senquential_model()\n",
        "X, y = gen_linear_regression_dataset(1000)\n",
        "history = model.fit(X,y, epochs=200, verbose=0, validation_split=0.3)\n",
        "\n",
        "plot_loss_curve(history)\n",
        "\n",
        "# loss\n",
        "print('train loss... : ', history.history['loss'][-1])\n",
        "print('val loss... : ', history.history['val_loss'][-1])\n",
        "\n",
        "predict_new_sample(model, np.array([0.1, 0.2]))"
      ],
      "execution_count": null,
      "outputs": [
        {
          "output_type": "stream",
          "text": [
            "Model: \"sequential_11\"\n",
            "_________________________________________________________________\n",
            "Layer (type)                 Output Shape              Param #   \n",
            "=================================================================\n",
            "hidden_layer1 (Dense)        (None, 16)                48        \n",
            "_________________________________________________________________\n",
            "output_layer (Dense)         (None, 1)                 17        \n",
            "=================================================================\n",
            "Total params: 65\n",
            "Trainable params: 65\n",
            "Non-trainable params: 0\n",
            "_________________________________________________________________\n",
            "model summary...: None\n",
            "(1000, 2)\n",
            "(2,)\n",
            "(1000,)\n"
          ],
          "name": "stdout"
        },
        {
          "output_type": "display_data",
          "data": {
            "image/png": "[encoded data removed]",
            "text/plain": [
              "<Figure size 1080x720 with 1 Axes>"
            ]
          },
          "metadata": {
            "tags": [],
            "needs_background": "light"
          }
        },
        {
          "output_type": "stream",
          "text": [
            "train loss... :  0.004870958160609007\n",
            "val loss... :  0.005009923595935106\n",
            "y actual value =  11.3\n",
            "y predict value =  11.213516\n"
          ],
          "name": "stdout"
        }
      ]
    },
    {
      "cell_type": "code",
      "metadata": {
        "colab": {
          "base_uri": "https://localhost:8080/"
        },
        "id": "i-3-ByoRsA2W",
        "outputId": "a7ef3238-a660-410b-f3ca-63d584503876"
      },
      "source": [
        "# weight - input\n",
        "model.layers[0].get_weights()"
      ],
      "execution_count": null,
      "outputs": [
        {
          "output_type": "execute_result",
          "data": {
            "text/plain": [
              "[array([[0.5620471 , 0.46210784, 0.5664171 , 0.61236763, 0.45587283,\n",
              "         0.46391797, 0.608768  , 0.59322506, 0.60775054, 0.6812642 ,\n",
              "         0.59451616, 0.5682352 , 0.6458261 , 0.5750241 , 0.51915824,\n",
              "         0.56703687],\n",
              "        [1.0107172 , 0.9295027 , 1.0208973 , 1.0016364 , 1.0334466 ,\n",
              "         0.8387516 , 0.9546905 , 0.9077153 , 0.9603325 , 0.9846789 ,\n",
              "         0.8873506 , 0.9657524 , 0.93231976, 0.8674189 , 0.85950625,\n",
              "         1.0109009 ]], dtype=float32),\n",
              " array([-0.4625693 , -0.31853563, -0.47698563, -0.49664742, -0.4026778 ,\n",
              "        -0.2517846 , -0.44287798, -0.38370436, -0.44795975, -0.542269  ,\n",
              "        -0.3652789 , -0.42177856, -0.4500157 , -0.33420303, -0.29467106,\n",
              "        -0.4669662 ], dtype=float32)]"
            ]
          },
          "metadata": {
            "tags": []
          },
          "execution_count": 32
        }
      ]
    },
    {
      "cell_type": "code",
      "metadata": {
        "colab": {
          "base_uri": "https://localhost:8080/"
        },
        "id": "jdu8KRTYtTw0",
        "outputId": "63ddc1ad-09bc-4b55-ad7c-cd04a7772df8"
      },
      "source": [
        "# weight - hidden\n",
        "model.layers[1].get_weights()"
      ],
      "execution_count": null,
      "outputs": [
        {
          "output_type": "execute_result",
          "data": {
            "text/plain": [
              "[array([[1.447785 ],\n",
              "        [1.2044505],\n",
              "        [1.4680952],\n",
              "        [1.5126178],\n",
              "        [1.3222477],\n",
              "        [1.1025614],\n",
              "        [1.4431206],\n",
              "        [1.3582189],\n",
              "        [1.4491835],\n",
              "        [1.5982008],\n",
              "        [1.3338784],\n",
              "        [1.3974335],\n",
              "        [1.4690704],\n",
              "        [1.2814181],\n",
              "        [1.1966726],\n",
              "        [1.4555807]], dtype=float32), array([1.1477627], dtype=float32)]"
            ]
          },
          "metadata": {
            "tags": []
          },
          "execution_count": 33
        }
      ]
    },
    {
      "cell_type": "markdown",
      "metadata": {
        "id": "RTVb_Abmywk5"
      },
      "source": [
        "실험시에는 weight 고정, 여기서는 정규분포로 고정시킴"
      ]
    },
    {
      "cell_type": "code",
      "metadata": {
        "id": "PtiY-HhJzo5g"
      },
      "source": [
        ""
      ],
      "execution_count": null,
      "outputs": []
    }
  ]
}