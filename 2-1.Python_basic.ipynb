{
 "cells": [
  {
   "cell_type": "markdown",
   "metadata": {},
   "source": [
    "# 2-1. Python Basic\n",
    "updated 0907  \n",
    "numpy, "
   ]
  },
  {
   "cell_type": "code",
   "execution_count": 1,
   "metadata": {},
   "outputs": [
    {
     "name": "stdout",
     "output_type": "stream",
     "text": [
      "[[ 0  1  2  3  4]\n",
      " [ 5  6  7  8  9]\n",
      " [10 11 12 13 14]]\n",
      "(3, 5)\n",
      "2\n",
      "int64\n",
      "8\n",
      "15\n",
      "<class 'numpy.ndarray'>\n"
     ]
    },
    {
     "data": {
      "text/plain": [
       "array([[ 0,  1,  2],\n",
       "       [ 3,  4,  5],\n",
       "       [ 6,  7,  8],\n",
       "       [ 9, 10, 11],\n",
       "       [12, 13, 14]])"
      ]
     },
     "execution_count": 1,
     "metadata": {},
     "output_type": "execute_result"
    }
   ],
   "source": [
    "# numpy asrray\n",
    "import numpy as np\n",
    "a = np.arange(15).reshape(3,5)\n",
    "print(a)\n",
    "\n",
    "# numpy attribute\n",
    "print(a.shape)\n",
    "print(a.ndim)    # 차원\n",
    "print(a.dtype)\n",
    "print(a.itemsize)     # 데이터 크기, 8바이트\n",
    "print(a.size)     # 원소 몇개가 들어있는지, 차원 관계 없음\n",
    "print(type(a))\n",
    "\n",
    "# reshape\n",
    "a.reshape(5,3)"
   ]
  },
  {
   "cell_type": "markdown",
   "metadata": {},
   "source": [
    "arange 는 numpy가 제공하는 range 함수, \n",
    "keras 나 sklearn에서 대부분 numpy array로 줌"
   ]
  },
  {
   "cell_type": "code",
   "execution_count": 2,
   "metadata": {},
   "outputs": [
    {
     "data": {
      "text/plain": [
       "(array([[1, 2, 3],\n",
       "        [4, 5, 6]]),\n",
       " array([[0., 0., 0., 0.],\n",
       "        [0., 0., 0., 0.],\n",
       "        [0., 0., 0., 0.]]),\n",
       " array([[[1, 1, 1, 1],\n",
       "         [1, 1, 1, 1],\n",
       "         [1, 1, 1, 1]],\n",
       " \n",
       "        [[1, 1, 1, 1],\n",
       "         [1, 1, 1, 1],\n",
       "         [1, 1, 1, 1]]]),\n",
       " array([[-2.31584178e+077, -2.32036017e+077,  1.48219694e-323],\n",
       "        [ 0.00000000e+000,  0.00000000e+000,  4.17201348e-309]]),\n",
       " array([10, 20, 30, 40, 50, 60, 70, 80, 90]))"
      ]
     },
     "execution_count": 2,
     "metadata": {},
     "output_type": "execute_result"
    }
   ],
   "source": [
    "# ndarray 생성\n",
    "a = np.array([[1,2,3],[4,5,6]])\n",
    "b = np.zeros((3,4))\n",
    "c = np.ones((2,3,4), dtype = np.int64)     # 3*4 를 2개 만듦\n",
    "d = np.empty((2,3))\n",
    "e = np.arange(10,100,10)     # 10부터 100까지 10단위로 끊어서\n",
    "\n",
    "a,b,c,d,e"
   ]
  },
  {
   "cell_type": "code",
   "execution_count": 3,
   "metadata": {},
   "outputs": [
    {
     "name": "stdout",
     "output_type": "stream",
     "text": [
      "[ True  True False False]\n"
     ]
    },
    {
     "data": {
      "text/plain": [
       "(array([20, 30, 40, 50]), array(4), array([16, 26, 36, 46]), 16)"
      ]
     },
     "execution_count": 3,
     "metadata": {},
     "output_type": "execute_result"
    }
   ],
   "source": [
    "# ndarray arithmetic operations\n",
    "# elementwise operations\n",
    "A = np.array([20,30,40,50])\n",
    "B = np.array(4)\n",
    "C = A-B\n",
    "D = B**2\n",
    "print(A<35)\n",
    "A,B,C,D"
   ]
  },
  {
   "cell_type": "markdown",
   "metadata": {},
   "source": [
    "벡터화 연산 적용 가능, for loop 보다 빠른 실행 <- 병렬처리 가능  \n",
    "최종에서는 array 형태로 넣어준다. 빨라서"
   ]
  },
  {
   "cell_type": "code",
   "execution_count": 4,
   "metadata": {},
   "outputs": [
    {
     "name": "stdout",
     "output_type": "stream",
     "text": [
      "elasped time =  3.0413289070129395\n",
      "elasped time =  0.16149592399597168\n"
     ]
    }
   ],
   "source": [
    "# ndarray 벡터화 계산\n",
    "# vectorized computation 효과\n",
    "import time\n",
    "\n",
    "# for\n",
    "a = range(10000000)\n",
    "b = range(10000000)\n",
    "c = []\n",
    "\n",
    "start = time.time()\n",
    "for i in range(10000000):\n",
    "    c.append(a[i]*b[i])\n",
    "end = time.time()\n",
    "print('elasped time = ', end-start)\n",
    "\n",
    "# numpy \n",
    "a = np.arange(10000000)\n",
    "b = np.arange(10000000)\n",
    "\n",
    "start = time.time()\n",
    "c = a*b\n",
    "end = time.time()\n",
    "\n",
    "print('elasped time = ', end-start)"
   ]
  },
  {
   "cell_type": "code",
   "execution_count": 5,
   "metadata": {},
   "outputs": [
    {
     "data": {
      "text/plain": [
       "(array([[1, 1],\n",
       "        [0, 1]]),\n",
       " array([[2, 0],\n",
       "        [3, 4]]),\n",
       " array([[2, 0],\n",
       "        [0, 4]]),\n",
       " array([[5, 4],\n",
       "        [3, 4]]),\n",
       " [1, 2, 3, 4],\n",
       " [1, 0, 1, 0],\n",
       " 4)"
      ]
     },
     "execution_count": 5,
     "metadata": {},
     "output_type": "execute_result"
    }
   ],
   "source": [
    "# ndarray matrix-wise operaions\n",
    "A = np.array([[1,1],\n",
    "            [0,1]])\n",
    "B = np.array([[2,0],\n",
    "            [3,4]])\n",
    "\n",
    "C = A*B     # elementwise product\n",
    "D = A@B     # matrix product\n",
    "\n",
    "X = [1,2,3,4]\n",
    "Y = [1,0,1,0]\n",
    "F = np.inner(X,Y)      # inner product, 내적\n",
    "\n",
    "A,B,C,D,X,Y,F"
   ]
  },
  {
   "cell_type": "markdown",
   "metadata": {},
   "source": [
    "### Pandas & DataFrame\n",
    "- pandas : python data analysis library  \n",
    "- dataframe : pandas 가 제공하는 테이블 형태의 데이터 분석을 위한 자료구조  \n",
    "- nparray, dict, list 등과 데이터 호환 및 변환 가능  \n",
    "- excel file 로 된 데이터 파일을 쉽게 import 할 수 있다는 장점"
   ]
  },
  {
   "cell_type": "code",
   "execution_count": null,
   "metadata": {},
   "outputs": [],
   "source": [
    "# excel 파일 읽어들이기\n",
    "# pandas 로 엑셀 불러들이기는 자습"
   ]
  },
  {
   "cell_type": "markdown",
   "metadata": {},
   "source": [
    "### SQL with python"
   ]
  },
  {
   "cell_type": "code",
   "execution_count": 1,
   "metadata": {},
   "outputs": [],
   "source": [
    "import pymysql"
   ]
  },
  {
   "cell_type": "code",
   "execution_count": 2,
   "metadata": {},
   "outputs": [
    {
     "name": "stdout",
     "output_type": "stream",
     "text": [
      "{'sno': 100, 'sname': 'Kim', 'dept': 'CE', 'enter_year': 2015, 'enter_date': datetime.datetime(2020, 9, 9, 1, 10, 6)}\n",
      "{'sno': 200, 'sname': 'Lee', 'dept': 'CE', 'enter_year': 2016, 'enter_date': datetime.datetime(2020, 9, 9, 1, 10, 6)}\n",
      "{'sno': 300, 'sname': 'Jang', 'dept': 'MA', 'enter_year': 2017, 'enter_date': datetime.datetime(2020, 9, 9, 1, 10, 6)}\n",
      "{'sno': 400, 'sname': 'Park', 'dept': 'IE', 'enter_year': 2018, 'enter_date': datetime.datetime(2020, 9, 9, 1, 10, 6)}\n"
     ]
    }
   ],
   "source": [
    "conn = pymysql.connect(host='localhost', user = 'root', password='1234')\n",
    "curs = conn.cursor(pymysql.cursors.DictCursor)\n",
    "\n",
    "sql = 'select * from university.student'\n",
    "curs.execute(sql)\n",
    "\n",
    "row = curs.fetchone()\n",
    "while row:\n",
    "    print(row)\n",
    "    row = curs.fetchone()\n",
    "curs.close()"
   ]
  },
  {
   "cell_type": "markdown",
   "metadata": {},
   "source": [
    "튜플 하나가 딕셔너리로 들어가있음.  \n",
    "key가 column, values 가 실제 값, 실제 만들어진 시간 들어가 있음."
   ]
  },
  {
   "cell_type": "markdown",
   "metadata": {},
   "source": [
    "## Python 과제\n",
    "1. 엑셀 파일 db_score.xlsx 를 입력파일로 받아서 dataframe으로 읽어 들이고,   \n",
    "이 데이터들을 mysql db_score 테이블을 생성하고 모두 튜플로 추가하는 python 프로그램을 작성할 것.  \n",
    "2. db_score 테이블로 부터 midterm(중간고사) 와 final(기말고사) 가 모두 20점 이상인 학생의  \n",
    "학번, 중간고사, 기말고사를 학번 순으로 출력하는 python 프로그램을 작성할 것\n",
    "\n",
    "> - 1,2는 각각 python 프로그램으로 작성할 것  \n",
    "> - 제출재용 : 개발설명, 소스코드, 실행 결과 캡쳐  \n",
    "> -  제출마감 : 9월 14일(월) 자정"
   ]
  },
  {
   "cell_type": "code",
   "execution_count": null,
   "metadata": {},
   "outputs": [],
   "source": []
  }
 ],
 "metadata": {
  "kernelspec": {
   "display_name": "Python 3",
   "language": "python",
   "name": "python3"
  },
  "language_info": {
   "codemirror_mode": {
    "name": "ipython",
    "version": 3
   },
   "file_extension": ".py",
   "mimetype": "text/x-python",
   "name": "python",
   "nbconvert_exporter": "python",
   "pygments_lexer": "ipython3",
   "version": "3.8.3"
  },
  "varInspector": {
   "cols": {
    "lenName": 16,
    "lenType": 16,
    "lenVar": 40
   },
   "kernels_config": {
    "python": {
     "delete_cmd_postfix": "",
     "delete_cmd_prefix": "del ",
     "library": "var_list.py",
     "varRefreshCmd": "print(var_dic_list())"
    },
    "r": {
     "delete_cmd_postfix": ") ",
     "delete_cmd_prefix": "rm(",
     "library": "var_list.r",
     "varRefreshCmd": "cat(var_dic_list()) "
    }
   },
   "types_to_exclude": [
    "module",
    "function",
    "builtin_function_or_method",
    "instance",
    "_Feature"
   ],
   "window_display": false
  }
 },
 "nbformat": 4,
 "nbformat_minor": 4
}
