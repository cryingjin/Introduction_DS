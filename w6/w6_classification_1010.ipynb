{
 "cells": [
  {
   "cell_type": "markdown",
   "metadata": {},
   "source": [
    "# 6주차 과제\n",
    "updated 1010  \n",
    "(1) classification 알고리즘 중에서 SVM, Logistic, Random Forest 알고리즘 원리 등 요약 각 1페이지 내외\n",
    "(2) 주어진 엑셀파일을 mysqld의 테이블로 구축하라.   \n",
    "(3) grade B에 대한 3가지 알고리즘들의 이진분류 성능 결과를 얻는 파이썬 프로그램 작성, 결과를 제시/분석  \n",
    "(4) grade A,B,C 에 대한 3가지 알고리즘의 다항분류 성능결과를 얻는 파이썬 프로그램 작성"
   ]
  },
  {
   "cell_type": "code",
   "execution_count": 32,
   "metadata": {},
   "outputs": [],
   "source": [
    "# ready\n",
    "import pandas as pd\n",
    "import numpy as np\n",
    "\n",
    "import pymysql\n",
    "import sqlalchemy\n",
    "\n",
    "import warnings\n",
    "warnings.filterwarnings(action='ignore')\n",
    "\n",
    "from IPython.display import display\n",
    "pd.options.display.max_rows = 999\n",
    "pd.options.display.max_columns = 999\n",
    "pd.set_option('display.max_info_columns', 500)\n",
    "\n",
    "# sklearn\n",
    "from sklearn.model_selection import train_test_split,KFold\n",
    "from sklearn.metrics import accuracy_score,precision_score,recall_score,f1_score\n",
    "from sklearn import preprocessing\n",
    "from sklearn.tree import DecisionTreeClassifier\n",
    "from sklearn.linear_model import LogisticRegression\n",
    "from sklearn.svm import SVC\n",
    "from sklearn.ensemble import RandomForestClassifier"
   ]
  },
  {
   "cell_type": "markdown",
   "metadata": {},
   "source": [
    "### (2) 주어진 데이터 파일을 mysql 에 테이블로 구축"
   ]
  },
  {
   "cell_type": "code",
   "execution_count": 33,
   "metadata": {},
   "outputs": [
    {
     "data": {
      "text/html": [
       "<div>\n",
       "<style scoped>\n",
       "    .dataframe tbody tr th:only-of-type {\n",
       "        vertical-align: middle;\n",
       "    }\n",
       "\n",
       "    .dataframe tbody tr th {\n",
       "        vertical-align: top;\n",
       "    }\n",
       "\n",
       "    .dataframe thead th {\n",
       "        text-align: right;\n",
       "    }\n",
       "</style>\n",
       "<table border=\"1\" class=\"dataframe\">\n",
       "  <thead>\n",
       "    <tr style=\"text-align: right;\">\n",
       "      <th></th>\n",
       "      <th>sno</th>\n",
       "      <th>homework</th>\n",
       "      <th>discussion</th>\n",
       "      <th>midterm</th>\n",
       "      <th>grade</th>\n",
       "    </tr>\n",
       "  </thead>\n",
       "  <tbody>\n",
       "    <tr>\n",
       "      <th>0</th>\n",
       "      <td>1</td>\n",
       "      <td>19.37</td>\n",
       "      <td>0</td>\n",
       "      <td>35.00</td>\n",
       "      <td>A</td>\n",
       "    </tr>\n",
       "    <tr>\n",
       "      <th>1</th>\n",
       "      <td>2</td>\n",
       "      <td>20.00</td>\n",
       "      <td>0</td>\n",
       "      <td>34.12</td>\n",
       "      <td>A</td>\n",
       "    </tr>\n",
       "  </tbody>\n",
       "</table>\n",
       "</div>"
      ],
      "text/plain": [
       "   sno  homework  discussion  midterm grade\n",
       "0    1     19.37           0    35.00     A\n",
       "1    2     20.00           0    34.12     A"
      ]
     },
     "execution_count": 33,
     "metadata": {},
     "output_type": "execute_result"
    }
   ],
   "source": [
    "# data\n",
    "db_score3 = pd.read_excel('data/db_score_3_labels.xlsx')\n",
    "db_score3.head(2)"
   ]
  },
  {
   "cell_type": "markdown",
   "metadata": {},
   "source": [
    "####  python to database function"
   ]
  },
  {
   "cell_type": "code",
   "execution_count": 34,
   "metadata": {},
   "outputs": [],
   "source": [
    "# python to database function\n",
    "def make_data_table():\n",
    "    # database 연결\n",
    "    conn = pymysql.connect(host='localhost', user='root',\n",
    "                           password='1234',db='university')\n",
    "    curs = conn.cursor(pymysql.cursors.DictCursor)\n",
    "    \n",
    "    drop_sql = '''drop table if exists db_score3'''\n",
    "    curs.execute(drop_sql)\n",
    "    conn.commit()\n",
    "    \n",
    "    db_username = 'root'\n",
    "    db_password = '1234'\n",
    "    db_ip = 'localhost'\n",
    "    db_name = 'university'\n",
    "    db_connection = sqlalchemy.create_engine('mysql+pymysql://{0}:{1}@{2}/{3}'.format(db_username,db_password,\n",
    "                                                                                     db_ip,db_name))\n",
    "    db_score3.to_sql(con=db_connection, name='db_score3', if_exists='replace')  \n",
    "    \n",
    "make_data_table()"
   ]
  },
  {
   "cell_type": "markdown",
   "metadata": {},
   "source": [
    "####  db to python"
   ]
  },
  {
   "cell_type": "code",
   "execution_count": 51,
   "metadata": {},
   "outputs": [
    {
     "name": "stdout",
     "output_type": "stream",
     "text": [
      "[{'index': 0, 'sno': 1, 'homework': 19.37, 'discussion': 0, 'midterm': 35.0, 'grade': 'A'}, {'index': 1, 'sno': 2, 'homework': 20.0, 'discussion': 0, 'midterm': 34.12, 'grade': 'A'}, {'index': 2, 'sno': 3, 'homework': 19.37, 'discussion': 0, 'midterm': 34.3, 'grade': 'A'}, {'index': 3, 'sno': 4, 'homework': 18.12, 'discussion': 2, 'midterm': 31.5, 'grade': 'A'}, {'index': 4, 'sno': 5, 'homework': 20.0, 'discussion': 2, 'midterm': 33.25, 'grade': 'A'}, {'index': 5, 'sno': 6, 'homework': 19.37, 'discussion': 0, 'midterm': 24.5, 'grade': 'A'}, {'index': 6, 'sno': 7, 'homework': 19.37, 'discussion': 2, 'midterm': 23.8, 'grade': 'A'}, {'index': 7, 'sno': 8, 'homework': 16.87, 'discussion': 0, 'midterm': 28.87, 'grade': 'A'}, {'index': 8, 'sno': 9, 'homework': 19.37, 'discussion': 0, 'midterm': 29.75, 'grade': 'A'}, {'index': 9, 'sno': 10, 'homework': 20.0, 'discussion': 0, 'midterm': 31.5, 'grade': 'A'}, {'index': 10, 'sno': 11, 'homework': 19.37, 'discussion': 0, 'midterm': 29.57, 'grade': 'A'}, {'index': 11, 'sno': 12, 'homework': 19.37, 'discussion': 0, 'midterm': 31.5, 'grade': 'A'}, {'index': 12, 'sno': 13, 'homework': 19.37, 'discussion': 0, 'midterm': 29.75, 'grade': 'A'}, {'index': 13, 'sno': 14, 'homework': 20.0, 'discussion': 0, 'midterm': 31.5, 'grade': 'A'}, {'index': 14, 'sno': 15, 'homework': 18.12, 'discussion': 0, 'midterm': 28.0, 'grade': 'A'}, {'index': 15, 'sno': 16, 'homework': 19.37, 'discussion': 0, 'midterm': 24.5, 'grade': 'A'}, {'index': 16, 'sno': 17, 'homework': 20.0, 'discussion': 0, 'midterm': 30.62, 'grade': 'A'}, {'index': 17, 'sno': 18, 'homework': 19.37, 'discussion': 0, 'midterm': 30.62, 'grade': 'A'}, {'index': 18, 'sno': 19, 'homework': 19.37, 'discussion': 0, 'midterm': 24.5, 'grade': 'A'}, {'index': 19, 'sno': 20, 'homework': 19.37, 'discussion': 0, 'midterm': 28.0, 'grade': 'A'}, {'index': 20, 'sno': 21, 'homework': 19.37, 'discussion': 0, 'midterm': 35.0, 'grade': 'A'}, {'index': 21, 'sno': 22, 'homework': 16.87, 'discussion': 0, 'midterm': 35.0, 'grade': 'A'}, {'index': 22, 'sno': 23, 'homework': 19.37, 'discussion': 0, 'midterm': 29.75, 'grade': 'A'}, {'index': 23, 'sno': 24, 'homework': 19.37, 'discussion': 0, 'midterm': 28.0, 'grade': 'A'}, {'index': 24, 'sno': 25, 'homework': 19.37, 'discussion': 2, 'midterm': 35.0, 'grade': 'A'}, {'index': 25, 'sno': 26, 'homework': 16.87, 'discussion': 0, 'midterm': 30.45, 'grade': 'A'}, {'index': 26, 'sno': 27, 'homework': 19.37, 'discussion': 2, 'midterm': 22.75, 'grade': 'A'}, {'index': 27, 'sno': 28, 'homework': 19.37, 'discussion': 0, 'midterm': 35.0, 'grade': 'A'}, {'index': 28, 'sno': 29, 'homework': 16.25, 'discussion': 0, 'midterm': 26.25, 'grade': 'A'}, {'index': 29, 'sno': 30, 'homework': 16.87, 'discussion': 0, 'midterm': 28.0, 'grade': 'A'}, {'index': 30, 'sno': 31, 'homework': 15.0, 'discussion': 0, 'midterm': 28.87, 'grade': 'B'}, {'index': 31, 'sno': 32, 'homework': 20.0, 'discussion': 0, 'midterm': 30.62, 'grade': 'B'}, {'index': 32, 'sno': 33, 'homework': 19.37, 'discussion': 0, 'midterm': 23.45, 'grade': 'B'}, {'index': 33, 'sno': 34, 'homework': 20.0, 'discussion': 2, 'midterm': 26.25, 'grade': 'B'}, {'index': 34, 'sno': 35, 'homework': 18.12, 'discussion': 0, 'midterm': 28.0, 'grade': 'B'}, {'index': 35, 'sno': 36, 'homework': 20.0, 'discussion': 0, 'midterm': 28.0, 'grade': 'B'}, {'index': 36, 'sno': 37, 'homework': 16.87, 'discussion': 0, 'midterm': 24.5, 'grade': 'B'}, {'index': 37, 'sno': 38, 'homework': 20.0, 'discussion': 0, 'midterm': 25.37, 'grade': 'B'}, {'index': 38, 'sno': 39, 'homework': 13.75, 'discussion': 0, 'midterm': 33.25, 'grade': 'B'}, {'index': 39, 'sno': 40, 'homework': 20.0, 'discussion': 2, 'midterm': 24.5, 'grade': 'B'}, {'index': 40, 'sno': 41, 'homework': 19.37, 'discussion': 0, 'midterm': 24.5, 'grade': 'B'}, {'index': 41, 'sno': 42, 'homework': 19.37, 'discussion': 0, 'midterm': 22.75, 'grade': 'B'}, {'index': 42, 'sno': 43, 'homework': 19.37, 'discussion': 0, 'midterm': 22.57, 'grade': 'B'}, {'index': 43, 'sno': 44, 'homework': 17.5, 'discussion': 0, 'midterm': 29.75, 'grade': 'B'}, {'index': 44, 'sno': 45, 'homework': 19.37, 'discussion': 0, 'midterm': 30.62, 'grade': 'B'}, {'index': 45, 'sno': 46, 'homework': 19.37, 'discussion': 0, 'midterm': 24.5, 'grade': 'B'}, {'index': 46, 'sno': 47, 'homework': 20.0, 'discussion': 0, 'midterm': 29.75, 'grade': 'B'}, {'index': 47, 'sno': 48, 'homework': 16.87, 'discussion': 0, 'midterm': 19.25, 'grade': 'B'}, {'index': 48, 'sno': 49, 'homework': 16.87, 'discussion': 0, 'midterm': 27.82, 'grade': 'B'}, {'index': 49, 'sno': 50, 'homework': 19.37, 'discussion': 0, 'midterm': 25.37, 'grade': 'B'}, {'index': 50, 'sno': 51, 'homework': 18.75, 'discussion': 0, 'midterm': 33.25, 'grade': 'B'}, {'index': 51, 'sno': 52, 'homework': 17.5, 'discussion': 2, 'midterm': 22.75, 'grade': 'B'}, {'index': 52, 'sno': 53, 'homework': 15.62, 'discussion': 0, 'midterm': 21.0, 'grade': 'B'}, {'index': 53, 'sno': 54, 'homework': 19.37, 'discussion': 0, 'midterm': 24.5, 'grade': 'B'}, {'index': 54, 'sno': 55, 'homework': 17.5, 'discussion': 0, 'midterm': 18.37, 'grade': 'B'}, {'index': 55, 'sno': 56, 'homework': 20.0, 'discussion': 0, 'midterm': 19.25, 'grade': 'B'}, {'index': 56, 'sno': 57, 'homework': 16.87, 'discussion': 0, 'midterm': 26.25, 'grade': 'B'}, {'index': 57, 'sno': 58, 'homework': 20.0, 'discussion': 0, 'midterm': 28.87, 'grade': 'B'}, {'index': 58, 'sno': 59, 'homework': 17.5, 'discussion': 0, 'midterm': 23.8, 'grade': 'B'}, {'index': 59, 'sno': 60, 'homework': 19.37, 'discussion': 0, 'midterm': 26.25, 'grade': 'B'}, {'index': 60, 'sno': 61, 'homework': 19.37, 'discussion': 0, 'midterm': 21.0, 'grade': 'B'}, {'index': 61, 'sno': 62, 'homework': 19.37, 'discussion': 0, 'midterm': 21.0, 'grade': 'C'}, {'index': 62, 'sno': 63, 'homework': 19.37, 'discussion': 0, 'midterm': 21.17, 'grade': 'C'}, {'index': 63, 'sno': 64, 'homework': 20.0, 'discussion': 0, 'midterm': 24.5, 'grade': 'C'}, {'index': 64, 'sno': 65, 'homework': 16.87, 'discussion': 0, 'midterm': 21.7, 'grade': 'C'}, {'index': 65, 'sno': 66, 'homework': 19.37, 'discussion': 2, 'midterm': 21.87, 'grade': 'C'}, {'index': 66, 'sno': 67, 'homework': 19.37, 'discussion': 0, 'midterm': 15.75, 'grade': 'C'}, {'index': 67, 'sno': 68, 'homework': 19.37, 'discussion': 0, 'midterm': 17.5, 'grade': 'C'}, {'index': 68, 'sno': 69, 'homework': 19.37, 'discussion': 2, 'midterm': 14.87, 'grade': 'C'}, {'index': 69, 'sno': 70, 'homework': 16.87, 'discussion': 0, 'midterm': 21.0, 'grade': 'C'}, {'index': 70, 'sno': 71, 'homework': 16.87, 'discussion': 0, 'midterm': 15.75, 'grade': 'C'}, {'index': 71, 'sno': 72, 'homework': 19.37, 'discussion': 0, 'midterm': 19.25, 'grade': 'C'}, {'index': 72, 'sno': 73, 'homework': 19.37, 'discussion': 0, 'midterm': 24.5, 'grade': 'C'}, {'index': 73, 'sno': 74, 'homework': 19.37, 'discussion': 2, 'midterm': 22.75, 'grade': 'C'}, {'index': 74, 'sno': 75, 'homework': 16.25, 'discussion': 0, 'midterm': 24.5, 'grade': 'C'}, {'index': 75, 'sno': 76, 'homework': 19.37, 'discussion': 0, 'midterm': 12.25, 'grade': 'C'}, {'index': 76, 'sno': 77, 'homework': 15.62, 'discussion': 0, 'midterm': 16.62, 'grade': 'C'}, {'index': 77, 'sno': 78, 'homework': 15.0, 'discussion': 0, 'midterm': 15.05, 'grade': 'C'}, {'index': 78, 'sno': 79, 'homework': 16.87, 'discussion': 0, 'midterm': 11.9, 'grade': 'C'}, {'index': 79, 'sno': 80, 'homework': 16.87, 'discussion': 0, 'midterm': 22.05, 'grade': 'C'}, {'index': 80, 'sno': 81, 'homework': 18.12, 'discussion': 0, 'midterm': 10.5, 'grade': 'C'}, {'index': 81, 'sno': 82, 'homework': 20.0, 'discussion': 0, 'midterm': 12.95, 'grade': 'C'}, {'index': 82, 'sno': 83, 'homework': 19.37, 'discussion': 0, 'midterm': 13.12, 'grade': 'C'}, {'index': 83, 'sno': 84, 'homework': 18.75, 'discussion': 0, 'midterm': 17.5, 'grade': 'C'}, {'index': 84, 'sno': 85, 'homework': 19.37, 'discussion': 0, 'midterm': 14.0, 'grade': 'C'}, {'index': 85, 'sno': 86, 'homework': 18.75, 'discussion': 0, 'midterm': 6.12, 'grade': 'C'}, {'index': 86, 'sno': 87, 'homework': 19.37, 'discussion': 0, 'midterm': 11.37, 'grade': 'C'}, {'index': 87, 'sno': 88, 'homework': 20.0, 'discussion': 0, 'midterm': 9.62, 'grade': 'C'}, {'index': 88, 'sno': 89, 'homework': 19.37, 'discussion': 0, 'midterm': 6.12, 'grade': 'C'}, {'index': 89, 'sno': 90, 'homework': 18.75, 'discussion': 0, 'midterm': 3.5, 'grade': 'C'}, {'index': 90, 'sno': 91, 'homework': 0.0, 'discussion': 0, 'midterm': 3.5, 'grade': 'C'}, {'index': 91, 'sno': 92, 'homework': 5.0, 'discussion': 0, 'midterm': 0.0, 'grade': 'C'}]\n"
     ]
    }
   ],
   "source": [
    "# db to python\n",
    "conn = pymysql.connect(host='localhost', user='root', password='1234', db='university')\n",
    "curs = conn.cursor(pymysql.cursors.DictCursor)\n",
    "\n",
    "sql = '''\n",
    "    select * from db_score3\n",
    "    '''\n",
    "curs.execute(sql)\n",
    "# data\n",
    "data = curs.fetchall()\n",
    "print(data)\n",
    "\n",
    "# close\n",
    "curs.close()\n",
    "conn.close()"
   ]
  },
  {
   "cell_type": "markdown",
   "metadata": {},
   "source": [
    "#### Data Generation"
   ]
  },
  {
   "cell_type": "code",
   "execution_count": 52,
   "metadata": {},
   "outputs": [
    {
     "data": {
      "text/plain": [
       "(array([[ 0.  ,  1.  , 19.37,  0.  , 35.  ],\n",
       "        [ 1.  ,  2.  , 20.  ,  0.  , 34.12],\n",
       "        [ 2.  ,  3.  , 19.37,  0.  , 34.3 ]]),\n",
       " array([-1, -1, -1]))"
      ]
     },
     "execution_count": 52,
     "metadata": {},
     "output_type": "execute_result"
    }
   ],
   "source": [
    "X = [(d['index'],d['sno'],d['homework'],d['discussion'],d['midterm']) for d in data]\n",
    "X = np.array(X)\n",
    "\n",
    "y = [1 if (d['grade']=='B') else -1 for d in data]\n",
    "y = np.array(y)\n",
    " \n",
    "X[:3] , y[:3]"
   ]
  },
  {
   "cell_type": "code",
   "execution_count": 53,
   "metadata": {},
   "outputs": [
    {
     "data": {
      "text/plain": [
       "Counter({-1: 61, 1: 31})"
      ]
     },
     "execution_count": 53,
     "metadata": {},
     "output_type": "execute_result"
    }
   ],
   "source": [
    "import collections\n",
    "collections.Counter(y)"
   ]
  },
  {
   "cell_type": "markdown",
   "metadata": {},
   "source": [
    "### (3) grade B에 대한 3가지 알고리즘들의 이진분류 성능 결과를 얻는 파이썬 프로그램 작성, 결과를 제시/분석\n",
    "- train, test split 과 kfold 사용\n",
    "- 4가지 성능평가"
   ]
  },
  {
   "cell_type": "markdown",
   "metadata": {},
   "source": [
    "#### setting"
   ]
  },
  {
   "cell_type": "code",
   "execution_count": 54,
   "metadata": {},
   "outputs": [],
   "source": [
    "# train_test_split\n",
    "# average='micro', 'binary'\n",
    "def split_eval(model,X,y,average='binary'):\n",
    "    # split\n",
    "    X_train, X_test, y_train, y_test = train_test_split(X, y, test_size=0.3, random_state=42)\n",
    "    \n",
    "    clf = model.fit(X_train,y_train)\n",
    "    y_pred = clf.predict(X_test)\n",
    "    \n",
    "    # eval\n",
    "    acc = accuracy_score(y_test,y_pred)\n",
    "    pre = precision_score(y_test,y_pred,average=average)\n",
    "    rec = recall_score(y_test,y_pred,average=average)\n",
    "    f1 = f1_score(y_test,y_pred,average=average)\n",
    "\n",
    "    # print\n",
    "    print(f'Accracy : {acc}')\n",
    "    print(f'Precision : {pre}')\n",
    "    print(f'Recall : {rec}')\n",
    "    print(f'F1 : {f1}')\n",
    "    \n",
    "    return acc,pre,rec,f1\n",
    "\n",
    "# K-Fold (cv=5, 5-fold 교차검증)\n",
    "def kf_eval(model,X,y,cv=5,average='binary'):\n",
    "    # kf setting\n",
    "    kf = KFold(n_splits=cv, random_state=42, shuffle=True)\n",
    "    accs = []\n",
    "    pres = []\n",
    "    recs = []\n",
    "    f1s = []\n",
    "\n",
    "    for t,v in kf.split(X):\n",
    "        X_train,X_val = X[t],X[v]\n",
    "        y_train,y_val = y[t],y[v]\n",
    "\n",
    "        # model \n",
    "        clf = model.fit(X_train,y_train)\n",
    "        y_pred = clf.predict(X_val)\n",
    "\n",
    "        # eval\n",
    "        acc = accuracy_score(y_val,y_pred)\n",
    "        pre = precision_score(y_val,y_pred,average=average)\n",
    "        rec = recall_score(y_val,y_pred,average=average)\n",
    "        f1 = f1_score(y_val,y_pred,average=average)\n",
    "        \n",
    "        # print\n",
    "        print(f'Accracy : {acc}')\n",
    "        print(f'Precision : {pre}')\n",
    "        print(f'Recall : {rec}')\n",
    "        print(f'F1 : {f1}')\n",
    "        print(''' ''')\n",
    "        # save\n",
    "        accs.append(acc)\n",
    "        pres.append(pre)\n",
    "        recs.append(rec)\n",
    "        f1s.append(f1)\n",
    "\n",
    "    # mean\n",
    "    print(f'Total Accracy : {np.mean(accs)}')\n",
    "    print(f'Total Precision : {np.mean(pres)}')\n",
    "    print(f'Total Recall : {np.mean(recs)}')\n",
    "    print(f'Total F1_score : {np.mean(f1s)}')\n",
    "    return np.mean(accs),np.mean(pres),np.mean(recs),np.mean(f1s)"
   ]
  },
  {
   "cell_type": "markdown",
   "metadata": {},
   "source": [
    "#### Classification & Evaluate"
   ]
  },
  {
   "cell_type": "code",
   "execution_count": 55,
   "metadata": {},
   "outputs": [],
   "source": [
    "# model setting\n",
    "svm = SVC()\n",
    "lr = LogisticRegression()\n",
    "rf = RandomForestClassifier()"
   ]
  },
  {
   "cell_type": "markdown",
   "metadata": {},
   "source": [
    "* svm"
   ]
  },
  {
   "cell_type": "code",
   "execution_count": 56,
   "metadata": {},
   "outputs": [
    {
     "name": "stdout",
     "output_type": "stream",
     "text": [
      "Accracy : 0.9642857142857143\n",
      "Precision : 0.8888888888888888\n",
      "Recall : 1.0\n",
      "F1 : 0.9411764705882353\n",
      "--------------------------------------------------\n",
      "Accracy : 0.8947368421052632\n",
      "Precision : 0.75\n",
      "Recall : 1.0\n",
      "F1 : 0.8571428571428571\n",
      " \n",
      "Accracy : 0.9473684210526315\n",
      "Precision : 1.0\n",
      "Recall : 0.8571428571428571\n",
      "F1 : 0.923076923076923\n",
      " \n",
      "Accracy : 1.0\n",
      "Precision : 1.0\n",
      "Recall : 1.0\n",
      "F1 : 1.0\n",
      " \n",
      "Accracy : 1.0\n",
      "Precision : 1.0\n",
      "Recall : 1.0\n",
      "F1 : 1.0\n",
      " \n",
      "Accracy : 0.9444444444444444\n",
      "Precision : 0.8333333333333334\n",
      "Recall : 1.0\n",
      "F1 : 0.9090909090909091\n",
      " \n",
      "Total Accracy : 0.9573099415204679\n",
      "Total Precision : 0.9166666666666666\n",
      "Total Recall : 0.9714285714285715\n",
      "Total F1_score : 0.9378621378621379\n"
     ]
    }
   ],
   "source": [
    "svm_acc, svm_pre, svm_rec, svm_f1 = split_eval(svm,X,y)\n",
    "print('-'*50)\n",
    "svm_kf_acc, svm_kf_pre, svm_kf_rec, svm_kf_f1 = kf_eval(svm,X,y,cv=5)"
   ]
  },
  {
   "cell_type": "markdown",
   "metadata": {},
   "source": [
    "* Logistic Regression"
   ]
  },
  {
   "cell_type": "code",
   "execution_count": 57,
   "metadata": {},
   "outputs": [
    {
     "name": "stdout",
     "output_type": "stream",
     "text": [
      "Accracy : 0.7142857142857143\n",
      "Precision : 0.5\n",
      "Recall : 0.125\n",
      "F1 : 0.2\n",
      "--------------------------------------------------\n",
      "Accracy : 0.6842105263157895\n",
      "Precision : 0.5\n",
      "Recall : 0.16666666666666666\n",
      "F1 : 0.25\n",
      " \n",
      "Accracy : 0.631578947368421\n",
      "Precision : 0.0\n",
      "Recall : 0.0\n",
      "F1 : 0.0\n",
      " \n",
      "Accracy : 0.7222222222222222\n",
      "Precision : 0.25\n",
      "Recall : 0.3333333333333333\n",
      "F1 : 0.28571428571428575\n",
      " \n",
      "Accracy : 0.5\n",
      "Precision : 1.0\n",
      "Recall : 0.1\n",
      "F1 : 0.18181818181818182\n",
      " \n",
      "Accracy : 0.5\n",
      "Precision : 0.16666666666666666\n",
      "Recall : 0.2\n",
      "F1 : 0.1818181818181818\n",
      " \n",
      "Total Accracy : 0.6076023391812866\n",
      "Total Precision : 0.38333333333333336\n",
      "Total Recall : 0.16\n",
      "Total F1_score : 0.1798701298701299\n"
     ]
    }
   ],
   "source": [
    "lr_acc, lr_pre, lr_rec, lr_f1 = split_eval(lr,X,y)\n",
    "print('-'*50)\n",
    "lr_kf_acc, lr_kf_pre, lr_kf_rec, lr_kf_f1 = kf_eval(lr,X,y)"
   ]
  },
  {
   "cell_type": "code",
   "execution_count": 58,
   "metadata": {},
   "outputs": [
    {
     "name": "stdout",
     "output_type": "stream",
     "text": [
      "Accracy : 0.9642857142857143\n",
      "Precision : 1.0\n",
      "Recall : 0.875\n",
      "F1 : 0.9333333333333333\n",
      "--------------------------------------------------\n",
      "Accracy : 1.0\n",
      "Precision : 1.0\n",
      "Recall : 1.0\n",
      "F1 : 1.0\n",
      " \n",
      "Accracy : 0.9473684210526315\n",
      "Precision : 1.0\n",
      "Recall : 0.8571428571428571\n",
      "F1 : 0.923076923076923\n",
      " \n",
      "Accracy : 1.0\n",
      "Precision : 1.0\n",
      "Recall : 1.0\n",
      "F1 : 1.0\n",
      " \n",
      "Accracy : 0.9444444444444444\n",
      "Precision : 0.9090909090909091\n",
      "Recall : 1.0\n",
      "F1 : 0.9523809523809523\n",
      " \n",
      "Accracy : 0.9444444444444444\n",
      "Precision : 1.0\n",
      "Recall : 0.8\n",
      "F1 : 0.888888888888889\n",
      " \n",
      "Total Accracy : 0.967251461988304\n",
      "Total Precision : 0.9818181818181818\n",
      "Total Recall : 0.9314285714285715\n",
      "Total F1_score : 0.9528693528693528\n"
     ]
    }
   ],
   "source": [
    "rf_acc, rf_pre, rf_rec, rf_f1 = split_eval(rf,X,y)\n",
    "print('-'*50)\n",
    "rf_kf_acc, rf_kf_pre, rf_kf_rec, rf_kf_f1 = kf_eval(rf,X,y,cv=5)"
   ]
  },
  {
   "cell_type": "code",
   "execution_count": 59,
   "metadata": {},
   "outputs": [
    {
     "data": {
      "text/html": [
       "<div>\n",
       "<style scoped>\n",
       "    .dataframe tbody tr th:only-of-type {\n",
       "        vertical-align: middle;\n",
       "    }\n",
       "\n",
       "    .dataframe tbody tr th {\n",
       "        vertical-align: top;\n",
       "    }\n",
       "\n",
       "    .dataframe thead th {\n",
       "        text-align: right;\n",
       "    }\n",
       "</style>\n",
       "<table border=\"1\" class=\"dataframe\">\n",
       "  <thead>\n",
       "    <tr style=\"text-align: right;\">\n",
       "      <th></th>\n",
       "      <th>svm_split_eval</th>\n",
       "      <th>svm_kf_eval</th>\n",
       "      <th>lr_split</th>\n",
       "      <th>lr_kf_eval</th>\n",
       "      <th>rf_split_eval</th>\n",
       "      <th>rf_kf_eval</th>\n",
       "    </tr>\n",
       "  </thead>\n",
       "  <tbody>\n",
       "    <tr>\n",
       "      <th>Accuracy</th>\n",
       "      <td>0.964286</td>\n",
       "      <td>0.957310</td>\n",
       "      <td>0.714286</td>\n",
       "      <td>0.607602</td>\n",
       "      <td>0.964286</td>\n",
       "      <td>0.967251</td>\n",
       "    </tr>\n",
       "    <tr>\n",
       "      <th>Precision</th>\n",
       "      <td>0.888889</td>\n",
       "      <td>0.916667</td>\n",
       "      <td>0.500000</td>\n",
       "      <td>0.383333</td>\n",
       "      <td>1.000000</td>\n",
       "      <td>0.981818</td>\n",
       "    </tr>\n",
       "    <tr>\n",
       "      <th>Recall</th>\n",
       "      <td>1.000000</td>\n",
       "      <td>0.971429</td>\n",
       "      <td>0.125000</td>\n",
       "      <td>0.160000</td>\n",
       "      <td>0.875000</td>\n",
       "      <td>0.931429</td>\n",
       "    </tr>\n",
       "    <tr>\n",
       "      <th>F1_score</th>\n",
       "      <td>0.941176</td>\n",
       "      <td>0.937862</td>\n",
       "      <td>0.200000</td>\n",
       "      <td>0.179870</td>\n",
       "      <td>0.933333</td>\n",
       "      <td>0.952869</td>\n",
       "    </tr>\n",
       "  </tbody>\n",
       "</table>\n",
       "</div>"
      ],
      "text/plain": [
       "           svm_split_eval  svm_kf_eval  lr_split  lr_kf_eval  rf_split_eval  \\\n",
       "Accuracy         0.964286     0.957310  0.714286    0.607602       0.964286   \n",
       "Precision        0.888889     0.916667  0.500000    0.383333       1.000000   \n",
       "Recall           1.000000     0.971429  0.125000    0.160000       0.875000   \n",
       "F1_score         0.941176     0.937862  0.200000    0.179870       0.933333   \n",
       "\n",
       "           rf_kf_eval  \n",
       "Accuracy     0.967251  \n",
       "Precision    0.981818  \n",
       "Recall       0.931429  \n",
       "F1_score     0.952869  "
      ]
     },
     "execution_count": 59,
     "metadata": {},
     "output_type": "execute_result"
    }
   ],
   "source": [
    "svm_split_eval = [svm_acc, svm_pre, svm_rec, svm_f1]\n",
    "svm_kf_eval = [svm_kf_acc, svm_kf_pre, svm_kf_rec, svm_kf_f1]\n",
    "lr_split_eval = [lr_acc, lr_pre, lr_rec, lr_f1]\n",
    "lr_kf_eval = [lr_kf_acc, lr_kf_pre, lr_kf_rec, lr_kf_f1]\n",
    "rf_split_eval = [rf_acc, rf_pre, rf_rec, rf_f1]\n",
    "rf_kf_eval = [rf_kf_acc, rf_kf_pre, rf_kf_rec, rf_kf_f1]\n",
    "\n",
    "# result\n",
    "bi_result = pd.DataFrame(index=['Accuracy','Precision','Recall','F1_score'])\n",
    "bi_result['svm_split_eval'] = svm_split_eval\n",
    "bi_result['svm_kf_eval'] = svm_kf_eval\n",
    "bi_result['lr_split'] = lr_split_eval\n",
    "bi_result['lr_kf_eval'] = lr_kf_eval\n",
    "bi_result['rf_split_eval'] = rf_split_eval\n",
    "bi_result['rf_kf_eval'] = rf_kf_eval\n",
    "\n",
    "bi_result"
   ]
  },
  {
   "cell_type": "markdown",
   "metadata": {},
   "source": [
    "### (4) grade A,B,C 에 대한 3가지 알고리즘의 다항분류 성능결과를 얻는 파이썬 프로그램 작성\n",
    "다항분류이기 때문에 y를 숫자로 라벨링 해준다."
   ]
  },
  {
   "cell_type": "code",
   "execution_count": 60,
   "metadata": {},
   "outputs": [
    {
     "data": {
      "text/plain": [
       "array([0, 0, 0, 0, 0, 0, 0, 0, 0, 0, 0, 0, 0, 0, 0, 0, 0, 0, 0, 0, 0, 0,\n",
       "       0, 0, 0, 0, 0, 0, 0, 0, 1, 1, 1, 1, 1, 1, 1, 1, 1, 1, 1, 1, 1, 1,\n",
       "       1, 1, 1, 1, 1, 1, 1, 1, 1, 1, 1, 1, 1, 1, 1, 1, 1, 2, 2, 2, 2, 2,\n",
       "       2, 2, 2, 2, 2, 2, 2, 2, 2, 2, 2, 2, 2, 2, 2, 2, 2, 2, 2, 2, 2, 2,\n",
       "       2, 2, 2, 2])"
      ]
     },
     "execution_count": 60,
     "metadata": {},
     "output_type": "execute_result"
    }
   ],
   "source": [
    "# load y\n",
    "y = [d['grade'] for d in data ]\n",
    "le = preprocessing.LabelEncoder()\n",
    "y_label = le.fit_transform(y)\n",
    "y_label"
   ]
  },
  {
   "cell_type": "code",
   "execution_count": 61,
   "metadata": {},
   "outputs": [
    {
     "name": "stdout",
     "output_type": "stream",
     "text": [
      "Accracy : 0.9285714285714286\n",
      "Precision : 0.9285714285714286\n",
      "Recall : 0.9285714285714286\n",
      "F1 : 0.9285714285714286\n",
      "--------------------------------------------------\n",
      "Accracy : 0.9473684210526315\n",
      "Precision : 0.9473684210526315\n",
      "Recall : 0.9473684210526315\n",
      "F1 : 0.9473684210526315\n",
      " \n",
      "Accracy : 0.8947368421052632\n",
      "Precision : 0.8947368421052632\n",
      "Recall : 0.8947368421052632\n",
      "F1 : 0.8947368421052632\n",
      " \n",
      "Accracy : 1.0\n",
      "Precision : 1.0\n",
      "Recall : 1.0\n",
      "F1 : 1.0\n",
      " \n",
      "Accracy : 1.0\n",
      "Precision : 1.0\n",
      "Recall : 1.0\n",
      "F1 : 1.0\n",
      " \n",
      "Accracy : 0.8888888888888888\n",
      "Precision : 0.8888888888888888\n",
      "Recall : 0.8888888888888888\n",
      "F1 : 0.8888888888888888\n",
      " \n",
      "Total Accracy : 0.9461988304093566\n",
      "Total Precision : 0.9461988304093566\n",
      "Total Recall : 0.9461988304093566\n",
      "Total F1_score : 0.9461988304093566\n"
     ]
    }
   ],
   "source": [
    "svm_acc, svm_pre, svm_rec, svm_f1 = split_eval(svm,X,y_label,average='micro')\n",
    "print('-'*50)\n",
    "svm_kf_acc, svm_kf_pre, svm_kf_rec, svm_kf_f1 = kf_eval(svm,X,y_label,cv=5,average='micro')"
   ]
  },
  {
   "cell_type": "code",
   "execution_count": 62,
   "metadata": {},
   "outputs": [
    {
     "name": "stdout",
     "output_type": "stream",
     "text": [
      "Accracy : 0.9285714285714286\n",
      "Precision : 0.9285714285714286\n",
      "Recall : 0.9285714285714286\n",
      "F1 : 0.9285714285714286\n",
      "--------------------------------------------------\n",
      "Accracy : 0.8947368421052632\n",
      "Precision : 0.8947368421052632\n",
      "Recall : 0.8947368421052632\n",
      "F1 : 0.8947368421052632\n",
      " \n",
      "Accracy : 0.8947368421052632\n",
      "Precision : 0.8947368421052632\n",
      "Recall : 0.8947368421052632\n",
      "F1 : 0.8947368421052632\n",
      " \n",
      "Accracy : 1.0\n",
      "Precision : 1.0\n",
      "Recall : 1.0\n",
      "F1 : 1.0\n",
      " \n",
      "Accracy : 0.9444444444444444\n",
      "Precision : 0.9444444444444444\n",
      "Recall : 0.9444444444444444\n",
      "F1 : 0.9444444444444444\n",
      " \n",
      "Accracy : 0.8333333333333334\n",
      "Precision : 0.8333333333333334\n",
      "Recall : 0.8333333333333334\n",
      "F1 : 0.8333333333333334\n",
      " \n",
      "Total Accracy : 0.9134502923976608\n",
      "Total Precision : 0.9134502923976608\n",
      "Total Recall : 0.9134502923976608\n",
      "Total F1_score : 0.9134502923976608\n"
     ]
    }
   ],
   "source": [
    "lr_acc, lr_pre, lr_rec, lr_f1 = split_eval(lr,X,y_label,average='micro')\n",
    "print('-'*50)\n",
    "lr_kf_acc, lr_kf_pre, lr_kf_rec, lr_kf_f1 = kf_eval(lr,X,y_label,cv=5,average='micro')"
   ]
  },
  {
   "cell_type": "code",
   "execution_count": 63,
   "metadata": {},
   "outputs": [
    {
     "name": "stdout",
     "output_type": "stream",
     "text": [
      "Accracy : 0.9642857142857143\n",
      "Precision : 0.9642857142857143\n",
      "Recall : 0.9642857142857143\n",
      "F1 : 0.9642857142857143\n",
      "--------------------------------------------------\n",
      "Accracy : 1.0\n",
      "Precision : 1.0\n",
      "Recall : 1.0\n",
      "F1 : 1.0\n",
      " \n",
      "Accracy : 0.9473684210526315\n",
      "Precision : 0.9473684210526315\n",
      "Recall : 0.9473684210526315\n",
      "F1 : 0.9473684210526315\n",
      " \n",
      "Accracy : 1.0\n",
      "Precision : 1.0\n",
      "Recall : 1.0\n",
      "F1 : 1.0\n",
      " \n",
      "Accracy : 0.9444444444444444\n",
      "Precision : 0.9444444444444444\n",
      "Recall : 0.9444444444444444\n",
      "F1 : 0.9444444444444444\n",
      " \n",
      "Accracy : 0.9444444444444444\n",
      "Precision : 0.9444444444444444\n",
      "Recall : 0.9444444444444444\n",
      "F1 : 0.9444444444444444\n",
      " \n",
      "Total Accracy : 0.967251461988304\n",
      "Total Precision : 0.967251461988304\n",
      "Total Recall : 0.967251461988304\n",
      "Total F1_score : 0.967251461988304\n"
     ]
    }
   ],
   "source": [
    "rf_acc, rf_pre, rf_rec, rf_f1 = split_eval(rf,X,y_label,average='micro')\n",
    "print('-'*50)\n",
    "rf_kf_acc, rf_kf_pre, rf_kf_rec, rf_kf_f1 = kf_eval(rf,X,y_label,cv=5,average='micro')"
   ]
  },
  {
   "cell_type": "code",
   "execution_count": 64,
   "metadata": {},
   "outputs": [
    {
     "data": {
      "text/html": [
       "<div>\n",
       "<style scoped>\n",
       "    .dataframe tbody tr th:only-of-type {\n",
       "        vertical-align: middle;\n",
       "    }\n",
       "\n",
       "    .dataframe tbody tr th {\n",
       "        vertical-align: top;\n",
       "    }\n",
       "\n",
       "    .dataframe thead th {\n",
       "        text-align: right;\n",
       "    }\n",
       "</style>\n",
       "<table border=\"1\" class=\"dataframe\">\n",
       "  <thead>\n",
       "    <tr style=\"text-align: right;\">\n",
       "      <th></th>\n",
       "      <th>svm_split_eval</th>\n",
       "      <th>svm_kf_eval</th>\n",
       "      <th>lr_split</th>\n",
       "      <th>lr_kf_eval</th>\n",
       "      <th>rf_split_eval</th>\n",
       "      <th>rf_kf_eval</th>\n",
       "    </tr>\n",
       "  </thead>\n",
       "  <tbody>\n",
       "    <tr>\n",
       "      <th>Accuracy</th>\n",
       "      <td>0.928571</td>\n",
       "      <td>0.946199</td>\n",
       "      <td>0.928571</td>\n",
       "      <td>0.91345</td>\n",
       "      <td>0.964286</td>\n",
       "      <td>0.967251</td>\n",
       "    </tr>\n",
       "    <tr>\n",
       "      <th>Precision</th>\n",
       "      <td>0.928571</td>\n",
       "      <td>0.946199</td>\n",
       "      <td>0.928571</td>\n",
       "      <td>0.91345</td>\n",
       "      <td>0.964286</td>\n",
       "      <td>0.967251</td>\n",
       "    </tr>\n",
       "    <tr>\n",
       "      <th>Recall</th>\n",
       "      <td>0.928571</td>\n",
       "      <td>0.946199</td>\n",
       "      <td>0.928571</td>\n",
       "      <td>0.91345</td>\n",
       "      <td>0.964286</td>\n",
       "      <td>0.967251</td>\n",
       "    </tr>\n",
       "    <tr>\n",
       "      <th>F1_score</th>\n",
       "      <td>0.928571</td>\n",
       "      <td>0.946199</td>\n",
       "      <td>0.928571</td>\n",
       "      <td>0.91345</td>\n",
       "      <td>0.964286</td>\n",
       "      <td>0.967251</td>\n",
       "    </tr>\n",
       "  </tbody>\n",
       "</table>\n",
       "</div>"
      ],
      "text/plain": [
       "           svm_split_eval  svm_kf_eval  lr_split  lr_kf_eval  rf_split_eval  \\\n",
       "Accuracy         0.928571     0.946199  0.928571     0.91345       0.964286   \n",
       "Precision        0.928571     0.946199  0.928571     0.91345       0.964286   \n",
       "Recall           0.928571     0.946199  0.928571     0.91345       0.964286   \n",
       "F1_score         0.928571     0.946199  0.928571     0.91345       0.964286   \n",
       "\n",
       "           rf_kf_eval  \n",
       "Accuracy     0.967251  \n",
       "Precision    0.967251  \n",
       "Recall       0.967251  \n",
       "F1_score     0.967251  "
      ]
     },
     "execution_count": 64,
     "metadata": {},
     "output_type": "execute_result"
    }
   ],
   "source": [
    "svm_split_eval = [svm_acc, svm_pre, svm_rec, svm_f1]\n",
    "svm_kf_eval = [svm_kf_acc, svm_kf_pre, svm_kf_rec, svm_kf_f1]\n",
    "lr_split_eval = [lr_acc, lr_pre, lr_rec, lr_f1]\n",
    "lr_kf_eval = [lr_kf_acc, lr_kf_pre, lr_kf_rec, lr_kf_f1]\n",
    "rf_split_eval = [rf_acc, rf_pre, rf_rec, rf_f1]\n",
    "rf_kf_eval = [rf_kf_acc, rf_kf_pre, rf_kf_rec, rf_kf_f1]\n",
    "\n",
    "# result\n",
    "multi_result = pd.DataFrame(index=['Accuracy','Precision','Recall','F1_score'])\n",
    "multi_result['svm_split_eval'] = svm_split_eval\n",
    "multi_result['svm_kf_eval'] = svm_kf_eval\n",
    "multi_result['lr_split'] = lr_split_eval\n",
    "multi_result['lr_kf_eval'] = lr_kf_eval\n",
    "multi_result['rf_split_eval'] = rf_split_eval\n",
    "multi_result['rf_kf_eval'] = rf_kf_eval\n",
    "\n",
    "multi_result"
   ]
  },
  {
   "cell_type": "code",
   "execution_count": 65,
   "metadata": {},
   "outputs": [
    {
     "data": {
      "text/html": [
       "<div>\n",
       "<style scoped>\n",
       "    .dataframe tbody tr th:only-of-type {\n",
       "        vertical-align: middle;\n",
       "    }\n",
       "\n",
       "    .dataframe tbody tr th {\n",
       "        vertical-align: top;\n",
       "    }\n",
       "\n",
       "    .dataframe thead th {\n",
       "        text-align: right;\n",
       "    }\n",
       "</style>\n",
       "<table border=\"1\" class=\"dataframe\">\n",
       "  <thead>\n",
       "    <tr style=\"text-align: right;\">\n",
       "      <th></th>\n",
       "      <th>svm_split_eval</th>\n",
       "      <th>svm_kf_eval</th>\n",
       "      <th>lr_split</th>\n",
       "      <th>lr_kf_eval</th>\n",
       "      <th>rf_split_eval</th>\n",
       "      <th>rf_kf_eval</th>\n",
       "    </tr>\n",
       "  </thead>\n",
       "  <tbody>\n",
       "    <tr>\n",
       "      <th>Accuracy</th>\n",
       "      <td>0.964286</td>\n",
       "      <td>0.957310</td>\n",
       "      <td>0.714286</td>\n",
       "      <td>0.607602</td>\n",
       "      <td>0.964286</td>\n",
       "      <td>0.967251</td>\n",
       "    </tr>\n",
       "    <tr>\n",
       "      <th>Precision</th>\n",
       "      <td>0.888889</td>\n",
       "      <td>0.916667</td>\n",
       "      <td>0.500000</td>\n",
       "      <td>0.383333</td>\n",
       "      <td>1.000000</td>\n",
       "      <td>0.981818</td>\n",
       "    </tr>\n",
       "    <tr>\n",
       "      <th>Recall</th>\n",
       "      <td>1.000000</td>\n",
       "      <td>0.971429</td>\n",
       "      <td>0.125000</td>\n",
       "      <td>0.160000</td>\n",
       "      <td>0.875000</td>\n",
       "      <td>0.931429</td>\n",
       "    </tr>\n",
       "    <tr>\n",
       "      <th>F1_score</th>\n",
       "      <td>0.941176</td>\n",
       "      <td>0.937862</td>\n",
       "      <td>0.200000</td>\n",
       "      <td>0.179870</td>\n",
       "      <td>0.933333</td>\n",
       "      <td>0.952869</td>\n",
       "    </tr>\n",
       "  </tbody>\n",
       "</table>\n",
       "</div>"
      ],
      "text/plain": [
       "           svm_split_eval  svm_kf_eval  lr_split  lr_kf_eval  rf_split_eval  \\\n",
       "Accuracy         0.964286     0.957310  0.714286    0.607602       0.964286   \n",
       "Precision        0.888889     0.916667  0.500000    0.383333       1.000000   \n",
       "Recall           1.000000     0.971429  0.125000    0.160000       0.875000   \n",
       "F1_score         0.941176     0.937862  0.200000    0.179870       0.933333   \n",
       "\n",
       "           rf_kf_eval  \n",
       "Accuracy     0.967251  \n",
       "Precision    0.981818  \n",
       "Recall       0.931429  \n",
       "F1_score     0.952869  "
      ]
     },
     "execution_count": 65,
     "metadata": {},
     "output_type": "execute_result"
    }
   ],
   "source": [
    "bi_result"
   ]
  },
  {
   "cell_type": "code",
   "execution_count": null,
   "metadata": {},
   "outputs": [],
   "source": []
  },
  {
   "cell_type": "code",
   "execution_count": null,
   "metadata": {},
   "outputs": [],
   "source": []
  }
 ],
 "metadata": {
  "kernelspec": {
   "display_name": "Python 3",
   "language": "python",
   "name": "python3"
  },
  "language_info": {
   "codemirror_mode": {
    "name": "ipython",
    "version": 3
   },
   "file_extension": ".py",
   "mimetype": "text/x-python",
   "name": "python",
   "nbconvert_exporter": "python",
   "pygments_lexer": "ipython3",
   "version": "3.8.3"
  },
  "varInspector": {
   "cols": {
    "lenName": 16,
    "lenType": 16,
    "lenVar": 40
   },
   "kernels_config": {
    "python": {
     "delete_cmd_postfix": "",
     "delete_cmd_prefix": "del ",
     "library": "var_list.py",
     "varRefreshCmd": "print(var_dic_list())"
    },
    "r": {
     "delete_cmd_postfix": ") ",
     "delete_cmd_prefix": "rm(",
     "library": "var_list.r",
     "varRefreshCmd": "cat(var_dic_list()) "
    }
   },
   "types_to_exclude": [
    "module",
    "function",
    "builtin_function_or_method",
    "instance",
    "_Feature"
   ],
   "window_display": false
  }
 },
 "nbformat": 4,
 "nbformat_minor": 4
}
